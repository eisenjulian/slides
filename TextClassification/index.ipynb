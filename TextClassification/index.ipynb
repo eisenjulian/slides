{
 "cells": [
  {
   "cell_type": "markdown",
   "metadata": {
    "colab_type": "text",
    "id": "o9Z_hiWFmK9i",
    "slideshow": {
     "slide_type": "slide"
    }
   },
   "source": [
    "Clasificación de texto en TensorFlow\n",
    "===\n",
    "\n",
    "![text_classification](https://cdn-images-1.medium.com/max/700/1*HgXA9v1EsqlrRDaC_iORhQ.png)\n",
    "\n",
    "<center>\n",
    "  <b>Julian Eisenschlos</b>  @eisenjulian\n",
    "</center>\n",
    "<table width=\"100%\"><tbody><tr aligh=\"left\">\n",
    "      <td><img width=\"100\" src=\"https://storage.googleapis.com/m-infra.appspot.com/public/botmaker/bmtop7.png\"></td>\n",
    "      <td align=\"right\">20 de Octube de 2018 - DevFest Buenos Aires</td>\n",
    "</tr></tbody></table>"
   ]
  },
  {
   "cell_type": "markdown",
   "metadata": {
    "colab_type": "text",
    "id": "VrgUsV30n9cJ",
    "slideshow": {
     "slide_type": "subslide"
    }
   },
   "source": [
    "![qr-code](https://storage.googleapis.com/m-infra.appspot.com/public/eidico/frame.png)\n",
    "\n",
    "## Repo: bit.ly/dev-fest-nlp"
   ]
  },
  {
   "cell_type": "markdown",
   "metadata": {
    "colab_type": "text",
    "id": "NAOnpFe361_3",
    "slideshow": {
     "slide_type": "slide"
    }
   },
   "source": [
    "## Definición del problema\n",
    "\n",
    "Dado un documento $d\\in D$ y clases $C = \\left\\{c_1,\\dots, c_k\\right\\}$ determinar una function $f:D\\to C$ que asigne categorías. \n",
    "\n",
    "Lo que queremos es armar un algortimo para producir un clasificador $f_T$ asociado a un set de entrenamiento:\n",
    "\n",
    "$$T \\subset D\\times C$$"
   ]
  },
  {
   "cell_type": "markdown",
   "metadata": {
    "slideshow": {
     "slide_type": "fragment"
    }
   },
   "source": [
    "---\n",
    "\n",
    "* ¿Cómo representamos los documentos? \n",
    "* ¿Conjuntos o secuencias?\n",
    "* ¿Letras, palabras, unidades semánticas?\n",
    "\n",
    "---"
   ]
  },
  {
   "cell_type": "markdown",
   "metadata": {
    "colab_type": "text",
    "id": "WjDROD0KmWKc",
    "slideshow": {
     "slide_type": "subslide"
    }
   },
   "source": [
    "## Ejemplos más comunes\n",
    "\n",
    "* Detección de Spam\n",
    "* Lenguaje adulto / insultos / moderación de contenido\n",
    "* Análisis de sentimiento / opinión\n",
    "* Asignación de temas\n",
    "* Identificación de lenguaje\n",
    "* Reconocimiento de intenciones\n",
    "* Otros..."
   ]
  },
  {
   "cell_type": "markdown",
   "metadata": {
    "colab_type": "text",
    "id": "SFtO6FJKevIM",
    "slideshow": {
     "slide_type": "subslide"
    }
   },
   "source": [
    "## Los datos\n",
    "\n",
    "Vamos a trabajar sobre un dataset en castellano etiquetado con la polaridad de reviews. En la tesis de [Luciana Dubiau](http://materias.fi.uba.ar/7500/Dubiau.pdf) encontramos dos datasets, uno de reviews de restaurants y otro de apps móbiles."
   ]
  },
  {
   "cell_type": "code",
   "execution_count": 20,
   "metadata": {
    "cellView": "form",
    "colab": {
     "base_uri": "https://localhost:8080/",
     "height": 34
    },
    "colab_type": "code",
    "id": "O21VC63FPoHj",
    "outputId": "eaa6d58b-be4f-4000-f51d-3de621332858",
    "slideshow": {
     "slide_type": "skip"
    }
   },
   "outputs": [
    {
     "name": "stdout",
     "output_type": "stream",
     "text": [
      "tf version 1.12.0-rc1\n"
     ]
    }
   ],
   "source": [
    "#@title Importamos las librerias necesarias\n",
    "import os\n",
    "import string\n",
    "import tempfile\n",
    "import tensorflow as tf\n",
    "import numpy as np\n",
    "import matplotlib.pyplot as plt\n",
    "import glob\n",
    "import json\n",
    "import collections\n",
    "import random\n",
    "\n",
    "from tensorflow.python.keras.preprocessing import sequence\n",
    "from tensorboard import summary as summary_lib\n",
    "\n",
    "tf.logging.set_verbosity(tf.logging.INFO)\n",
    "model_dir = tempfile.mkdtemp()\n",
    "print('tf version', tf.__version__)"
   ]
  },
  {
   "cell_type": "code",
   "execution_count": 3,
   "metadata": {
    "cellView": "form",
    "colab": {
     "base_uri": "https://localhost:8080/",
     "height": 125
    },
    "colab_type": "code",
    "id": "Mn7X4JlCPto3",
    "outputId": "b79a99c5-5b07-411c-b886-dada9b0c5500",
    "slideshow": {
     "slide_type": "skip"
    }
   },
   "outputs": [
    {
     "name": "stdout",
     "output_type": "stream",
     "text": [
      "[\n",
      "  \"el mozo atendio barbaro, los platos riquisimos y muy abundantes, el vino me encanto.. el lugar barbaro, con algo de penumbra y velas, muy bueno. el precio un poco salado, es un lugar chico, pero muy lindo.\", \n",
      "  \"Muy linda ambientaci\\u00f3n. Excelente atenci\\u00f3n y comida.  Porciones generosas. Precios adecuados. Seguro volver\\u00e9.\", \n",
      "  \"Muy bien preparada las mesas en la vereda con calefacci\\u00f3n y reparo . Atenci\\u00f3n de espumantes antes del servicio.Las pastas servidas en platos originales y calientes, y en su punto justo ademas de ricas y caseras. Muy amable  el servicio de camareros.Para recomendar y volver\"\n",
      "]"
     ]
    }
   ],
   "source": [
    "#@title Descargamos el dataset\n",
    "if not os.path.exists('restaurante-review-dataset.zip'):\n",
    "    ! wget -q http://web.fi.uba.ar/~ldubiau/datasets/restaurante-review-dataset.zip\n",
    "if not os.path.exists('restaurante-review-dataset'):\n",
    "    ! unzip -q restaurante-review-dataset.zip\n",
    "! cat restaurante-review-dataset/pos/9778.json"
   ]
  },
  {
   "cell_type": "code",
   "execution_count": 0,
   "metadata": {
    "cellView": "both",
    "colab": {},
    "colab_type": "code",
    "id": "8mgeYRlVj2wg",
    "slideshow": {
     "slide_type": "subslide"
    }
   },
   "outputs": [],
   "source": [
    "translator = str.maketrans('', '', string.punctuation)\n",
    "\n",
    "def tokenize(doc):\n",
    "    return doc.translate(translator).lower().split()\n",
    "\n",
    "def parse_file(path):\n",
    "    with open(path, 'r') as json_data:\n",
    "        return json.loads(json_data.read())\n",
    "\n",
    "def get_docs(folder):\n",
    "    full_path = os.path.join('restaurante-review-dataset', folder, '*.json')\n",
    "    return (doc for path in glob.glob(full_path) for doc in parse_file(path))"
   ]
  },
  {
   "cell_type": "code",
   "execution_count": 5,
   "metadata": {
    "cellView": "form",
    "colab": {
     "base_uri": "https://localhost:8080/",
     "height": 70
    },
    "colab_type": "code",
    "id": "lZpIxOezqh--",
    "outputId": "be08f217-dab1-4a3d-e080-de6ecc74552d",
    "slideshow": {
     "slide_type": "skip"
    }
   },
   "outputs": [
    {
     "name": "stdout",
     "output_type": "stream",
     "text": [
      "We have 34808 pos docs, with an average of 233 tokens each.\n",
      "We have 17633 neg docs, with an average of 347 tokens each.\n",
      "There are in total 67174 distinct tokens.\n"
     ]
    }
   ],
   "source": [
    "#@title Algunas estadísticas sobre el dataset\n",
    "        \n",
    "def print_stats(folder):\n",
    "    total_docs = sum(1 for doc in get_docs(folder))\n",
    "    total_tokens = sum(sum(1 for token in doc) for doc in get_docs(folder))\n",
    "    print('We have {} {} docs, with an average of {} tokens each.'.format(\n",
    "        total_docs, folder, int(total_tokens/total_docs)))\n",
    "  \n",
    "def get_tokens():\n",
    "    return (token for doc in get_docs('*') for token in tokenize(doc))\n",
    "  \n",
    "print_stats('pos')\n",
    "print_stats('neg')\n",
    "\n",
    "print('There are in total {} distinct tokens.'.format(len(set(get_tokens()))))"
   ]
  },
  {
   "cell_type": "markdown",
   "metadata": {
    "colab_type": "text",
    "id": "7ohLx7Ssol58",
    "slideshow": {
     "slide_type": "subslide"
    }
   },
   "source": [
    "### Distribución de términos\n",
    "\n",
    "Podemos ver la distribución del vocabulario\n",
    "\n"
   ]
  },
  {
   "cell_type": "code",
   "execution_count": null,
   "metadata": {
    "cellView": "form",
    "colab": {
     "base_uri": "https://localhost:8080/",
     "height": 431
    },
    "colab_type": "code",
    "id": "T_gtpPD80DqV",
    "outputId": "dcb1e039-1998-4e0b-8846-26bb2f26af18",
    "slideshow": {
     "slide_type": "subslide"
    }
   },
   "outputs": [],
   "source": [
    "#@title ¿Cuales son los términos más frecuentes?\n",
    "#@markdown `counter = collections.Counter(get_tokens())`\n",
    "#@markdown `most_common = counter.most_common(30)`\n",
    "\n",
    "counter = collections.Counter(get_tokens())\n",
    "most_common = counter.most_common(30)\n",
    "\n",
    "plt.figure(figsize=(12, 6))\n",
    "y_pos = np.arange(len(most_common)) * 1.2\n",
    "plt.bar(y_pos, [pair[1] for pair in most_common], align='center', alpha=0.5)\n",
    "plt.xticks(y_pos, [pair[0] for pair in most_common], rotation=45, ha='right', fontsize=14)\n",
    "plt.ylabel('Frequency')\n",
    "plt.title('Most frecuent tokens') \n",
    "plt.show()"
   ]
  },
  {
   "cell_type": "markdown",
   "metadata": {
    "slideshow": {
     "slide_type": "subslide"
    }
   },
   "source": [
    "![freq](https://raw.githubusercontent.com/eisenjulian/nlp_estimator_tutorial/master/token_weights.png)"
   ]
  },
  {
   "cell_type": "markdown",
   "metadata": {
    "colab_type": "text",
    "id": "MsaLtqP4sQ2b",
    "slideshow": {
     "slide_type": "slide"
    }
   },
   "source": [
    "### Armando el train y test set\n",
    "\n",
    "Construímos un vocabulario con las palabras más frecuentes de modo de mapear los tokens a índices"
   ]
  },
  {
   "cell_type": "code",
   "execution_count": 0,
   "metadata": {
    "colab": {},
    "colab_type": "code",
    "id": "I5vA05Lmk8H-",
    "slideshow": {
     "slide_type": "fragment"
    }
   },
   "outputs": [],
   "source": [
    "word_index = {token[0]: i+1 for i, token in enumerate(counter.most_common(10000))}\n",
    "word_inverted_index = {v: k for k, v in word_index.items()}\n",
    "index_offset = 3\n",
    "vocab_size = 5000\n",
    "\n",
    "def doc_to_index(doc, start=1, oov=2, offset=index_offset, size=vocab_size):\n",
    "    return np.array(\n",
    "        [start] + \n",
    "        [word_index[token] + offset \n",
    "         if token in word_index and (word_index[token] + offset < size)\n",
    "         else oov for token in tokenize(doc)])\n"
   ]
  },
  {
   "cell_type": "code",
   "execution_count": 0,
   "metadata": {
    "cellView": "form",
    "colab": {},
    "colab_type": "code",
    "id": "QG9_twFBvtkQ",
    "slideshow": {
     "slide_type": "skip"
    }
   },
   "outputs": [],
   "source": [
    "#@markdown Y aplicando esta función tenemos nuestro set de entrenamiento\n",
    "\n",
    "\n",
    "pos = [doc_to_index(doc) for doc in get_docs('pos')]\n",
    "neg = [doc_to_index(doc) for doc in get_docs('neg')]\n",
    "x_all = pos + neg\n",
    "y_all = [1] * len(pos) + [0] * len(neg)\n",
    "random.Random(42).shuffle(x_all)\n",
    "random.Random(42).shuffle(y_all)\n",
    "\n",
    "train_size = int(len(x_all) * 0.7)\n",
    "\n",
    "x_train_variable = x_all[:train_size]\n",
    "y_train = np.array(y_all[:train_size])\n",
    "x_test_variable = x_all[train_size:]\n",
    "y_test = np.array(y_all[train_size:])"
   ]
  },
  {
   "cell_type": "markdown",
   "metadata": {
    "colab_type": "text",
    "id": "BCO6ivC9t_U2",
    "slideshow": {
     "slide_type": "subslide"
    }
   },
   "source": [
    "La dimensionalidad se reduce achicando el vocabulario y asignando el término *Fuera de vocabulario* o *OOV* al resto\n",
    "\n",
    "* ¿Cómo elegir qué palabras dejar y cuales eliminar?\n",
    "  * Las $N$ más frecuentes, funciona bien en el 90% de los casos\n",
    "  * Las $N$ más \"informativas\" de cada clase, usando la información mutua\n",
    "  * Descartar *stopwords* (de, la, con, en, y, etc...)\n",
    "* ¿Tamaño del vocabulario?\n",
    "  * Depende el algoritmo, hay algunos como SVMs que son cuadráticos en la cantidad de features\n",
    "* ¿Qué hacer con las palabras que se quedan afuera?"
   ]
  },
  {
   "cell_type": "markdown",
   "metadata": {
    "colab_type": "text",
    "id": "UY8iWgyOV486",
    "slideshow": {
     "slide_type": "slide"
    }
   },
   "source": [
    "## Baselines\n",
    "\n",
    "El primer baseline siempre debe ser el casificador constante, con el que obtenemos una exactitud de $66\\%$. Vamos a comenzar con dos modelos bien simples pero efectivos."
   ]
  },
  {
   "cell_type": "markdown",
   "metadata": {
    "colab_type": "text",
    "id": "FaURBiWu84Sp",
    "slideshow": {
     "slide_type": "subslide"
    }
   },
   "source": [
    "### Naive Bayes\n",
    "\n",
    "El primero es el de Naive Bayes, basado en el modelo gráfico que describe a los features cómo condicionalmente independientes entre sí dentro de cada clase.\n",
    "\n",
    "![NB](http://rspa.royalsocietypublishing.org/content/royprsa/465/2109/2927/F1.large.jpg?width=800&height=600&carousel=1)"
   ]
  },
  {
   "cell_type": "markdown",
   "metadata": {
    "slideshow": {
     "slide_type": "subslide"
    }
   },
   "source": [
    "Podemos modelar la aparición de palabras dentro de cada documento dentro de una clase $c\\in C$ de dos formas\n",
    "* Cada palabra $w$ aparece o no según una variable de Bernoulli con probabilidad $p_{c,w}$\n",
    "* La frecuencia de las palabras dentro de un documento corresponde a reiteradad evaluaciones de una distribución multinomial con probalidades $p_{c,w}$ con $\\sum_{w\\in V} p_{c,w} = 1$"
   ]
  },
  {
   "cell_type": "markdown",
   "metadata": {
    "slideshow": {
     "slide_type": "subslide"
    }
   },
   "source": [
    "El desarrollo del *MAP* es similar en ambos casos. Para la distribución de Bernoulli tenemos\n",
    "\n",
    "$$P(c|x) = \\frac{P(c)\\times P(x|c)}{P(x)} \\propto P(c) \\times \\prod_{w\\in V} P(x_w|c) = P(c) \\times \\prod_{w\\in V} (x_w p_{c,w} + (1-x_w)(1-p_{c,w}))$$\n",
    "\n",
    "y si tomamos logaritmo llegamos a que \n",
    "\n",
    "$$\\log P(c|x) = \\log P(c) + \\sum_{w\\in V} (x_w \\log p_{c,w}  + (1-x_w)\\log(1-p_{c,w})) + \\dots$$"
   ]
  },
  {
   "cell_type": "markdown",
   "metadata": {
    "slideshow": {
     "slide_type": "subslide"
    }
   },
   "source": [
    "Por otro lado en el caso de la distribución multinomial el resultado es similar\n",
    "\n",
    "$$P(c|x) \\propto P(c) \\times \\frac{(\\sum_w x_w)!}{\\prod_w x_w!} \\times \\prod_{w\\in V} p_{c,w}^{x_w}$$\n",
    "\n",
    "y de nuevo tomando logaritmos\n",
    "\n",
    "$$\\log P(c|x) = \\log P(c) + \\sum_{w\\in V} x_w \\cdot \\log(p_{c,w}) + \\dots$$"
   ]
  },
  {
   "cell_type": "markdown",
   "metadata": {
    "slideshow": {
     "slide_type": "subslide"
    }
   },
   "source": [
    "**¿Les suenan la pinta de estos modelos?**"
   ]
  },
  {
   "cell_type": "code",
   "execution_count": 7,
   "metadata": {
    "colab": {
     "base_uri": "https://localhost:8080/",
     "height": 50
    },
    "colab_type": "code",
    "id": "9H1Pl97AHjyv",
    "outputId": "ee000609-b270-401a-840e-c258f171740f",
    "slideshow": {
     "slide_type": "subslide"
    }
   },
   "outputs": [
    {
     "name": "stdout",
     "output_type": "stream",
     "text": [
      "Multinomial accuracy: 0.9519481344943749\n",
      "Bernoulli   accuracy: 0.9038327083200915\n"
     ]
    }
   ],
   "source": [
    "from sklearn.naive_bayes import MultinomialNB, BernoulliNB\n",
    "\n",
    "def get_counts(x):\n",
    "    counts = np.zeros((len(x), vocab_size), dtype=int)\n",
    "    for i, doc in enumerate(x):\n",
    "        for j in doc:\n",
    "            counts[i][j] += 1\n",
    "    return counts\n",
    "\n",
    "x_train_counts = get_counts(x_train_variable)\n",
    "x_test_counts = get_counts(x_test_variable)\n",
    "\n",
    "mnb = MultinomialNB()\n",
    "bnb = BernoulliNB()\n",
    "print(\"Multinomial accuracy: {}\".format(mnb.fit(x_train_counts, y_train).score(x_test_counts, y_test)))\n",
    "print(\"Bernoulli   accuracy: {}\".format(bnb.fit(x_train_counts, y_train).score(x_test_counts, y_test)))"
   ]
  },
  {
   "cell_type": "markdown",
   "metadata": {
    "colab_type": "text",
    "id": "TZAHFkGpTsJs",
    "slideshow": {
     "slide_type": "subslide"
    }
   },
   "source": [
    "Dada lo absurdo de la hipótesis de NaiveBayes ¿por qué funcionan?\n",
    " * La distribución de probabilidad que da es usualmente muy mala, pero sólo nos interesa que discrimine bien\n",
    " * Muy robustas a ruido\n",
    " * Muy robustas a cambios en el tiempo\n",
    " \n",
    "Además son:\n",
    " * Un gran baseline para clasificación de texto\n",
    " * Estúpidamente rápida para \"entrenar\" y predecir\n",
    " * Modelos compactos"
   ]
  },
  {
   "cell_type": "markdown",
   "metadata": {
    "colab_type": "text",
    "id": "GgFfawAIWCTM",
    "slideshow": {
     "slide_type": "slide"
    }
   },
   "source": [
    "### Vectores por documento\n",
    "\n",
    "Otro ejemplo de muy útil es el algoritmo de **Centroide más cercano** o [Rocchio](https://nlp.stanford.edu/IR-book/html/htmledition/rocchio-classification-1.html), que calcula un prototipo de cada clase como el promedio de sus vectores y después clasifica con el vector más cercano.\n",
    "\n",
    "![Rocchio](https://nlp.stanford.edu/IR-book/html/htmledition/img1091.png)"
   ]
  },
  {
   "cell_type": "markdown",
   "metadata": {
    "slideshow": {
     "slide_type": "subslide"
    }
   },
   "source": [
    "Cómo NaiveBayes, este es un caso particular de modelo lineal.\n",
    "\n",
    "En general usa vectores unitarios pesados con *tf-idf* y la distania coseno para comparar. Algunos puntos importantes:\n",
    " * Si la clase es polimórfica o disjunta es le complica\n",
    " * Es útil para muchas clases con pocos ejemplos por cada una como clasificación de intenciones"
   ]
  },
  {
   "cell_type": "markdown",
   "metadata": {
    "slideshow": {
     "slide_type": "subslide"
    }
   },
   "source": [
    "Una mejora sobre este clasificador es el de $k$-Nearest-Neighbors que vota la clase para un ejemplo $x$ en base a la moda de los $k$ más cercanos. Ambos estan disponibles en `sklearn`.\n",
    " * Escala muy bien para muchas clases\n",
    " * Soporta clases muy disjuntas"
   ]
  },
  {
   "cell_type": "markdown",
   "metadata": {
    "colab_type": "text",
    "id": "6Wr7p01pajKm",
    "slideshow": {
     "slide_type": "slide"
    }
   },
   "source": [
    "### Estimadores lineales\n",
    "\n",
    "Para seguir trabajando sobre modelos más complejos vamos a mudarnos a `TensorFlow` y armar un pipeline para recorrer nuestro training data. Vamos a usar tres componentes de la lbrería\n",
    "\n",
    "* `tf.data.Dataset`\n",
    "* `tf.feature_colum`\n",
    "* `tf.estimator`"
   ]
  },
  {
   "cell_type": "code",
   "execution_count": 12,
   "metadata": {
    "colab": {
     "base_uri": "https://localhost:8080/",
     "height": 67
    },
    "colab_type": "code",
    "id": "VI8WD3e-5JvL",
    "outputId": "4951e776-1b96-4b08-d7d2-174ee2274af5",
    "slideshow": {
     "slide_type": "subslide"
    }
   },
   "outputs": [
    {
     "name": "stdout",
     "output_type": "stream",
     "text": [
      "Pad sequences (samples x time)\n",
      "x_train shape: (36708, 400)\n",
      "x_test shape: (15733, 400)\n"
     ]
    }
   ],
   "source": [
    "sentence_size = 400\n",
    "\n",
    "print(\"Pad sequences (samples x time)\")\n",
    "x_train = sequence.pad_sequences(x_train_variable, \n",
    "                                 maxlen=sentence_size, \n",
    "                                 padding='post', \n",
    "                                 value=0)\n",
    "x_test = sequence.pad_sequences(x_test_variable, \n",
    "                                maxlen=sentence_size, \n",
    "                                padding='post', \n",
    "                                value=0)\n",
    "print(\"x_train shape:\", x_train.shape)\n",
    "print(\"x_test shape:\", x_test.shape)"
   ]
  },
  {
   "cell_type": "markdown",
   "metadata": {
    "colab_type": "text",
    "id": "_xni8Vcft6UD",
    "slideshow": {
     "slide_type": "subslide"
    }
   },
   "source": [
    "<h4>Los datasets son el puente entre nuestros datos en disco o la red al runtime de python</h4>\n"
   ]
  },
  {
   "cell_type": "code",
   "execution_count": 0,
   "metadata": {
    "colab": {},
    "colab_type": "code",
    "id": "DRhwkf_v5ZcD",
    "slideshow": {
     "slide_type": "fragment"
    }
   },
   "outputs": [],
   "source": [
    "x_len_train = np.array([min(len(x), sentence_size) for x in x_train_variable])\n",
    "x_len_test = np.array([min(len(x), sentence_size) for x in x_test_variable])\n",
    "\n",
    "def parser(x, length, y):\n",
    "    features = {\"x\": x, \"len\": length}\n",
    "    return features, y\n",
    "\n",
    "def train_input_fn():\n",
    "    dataset = tf.data.Dataset.from_tensor_slices((x_train, x_len_train, y_train)) \\\n",
    "      .shuffle(buffer_size=len(x_train_variable)) \\\n",
    "      .batch(100) \\\n",
    "      .map(parser) \\\n",
    "      .repeat()\n",
    "    iterator = dataset.make_one_shot_iterator()\n",
    "    return iterator.get_next()\n",
    "\n",
    "def eval_input_fn():\n",
    "    dataset = tf.data.Dataset.from_tensor_slices((x_test, x_len_test, y_test)) \\\n",
    "      .batch(100) \\\n",
    "      .map(parser)\n",
    "    iterator = dataset.make_one_shot_iterator()\n",
    "    return iterator.get_next()"
   ]
  },
  {
   "cell_type": "markdown",
   "metadata": {
    "colab_type": "text",
    "id": "GGsghi_CWwS-",
    "slideshow": {
     "slide_type": "subslide"
    }
   },
   "source": [
    "<h4>Los features columns son el puente entre la data en memoria y la representación numérica que los modelos saben procesar</h4>\n",
    "\n",
    "\n",
    "![feature_columns](https://www.tensorflow.org/images/feature_columns/some_constructors.jpg)"
   ]
  },
  {
   "cell_type": "code",
   "execution_count": 0,
   "metadata": {
    "colab": {},
    "colab_type": "code",
    "id": "vhZR8aoKXQWs",
    "slideshow": {
     "slide_type": "subslide"
    }
   },
   "outputs": [],
   "source": [
    "column = tf.feature_column.categorical_column_with_identity('x', vocab_size)\n",
    "\n",
    "embedding_size = 50\n",
    "word_embedding_column = tf.feature_column.embedding_column(column, dimension=embedding_size)"
   ]
  },
  {
   "cell_type": "markdown",
   "metadata": {
    "colab_type": "text",
    "id": "OinPaV1JXVKN",
    "slideshow": {
     "slide_type": "subslide"
    }
   },
   "source": [
    "<h3>Los estimadores vienen en dos sabores</h3>\n",
    "\n",
    "![alt text](https://www.tensorflow.org/images/custom_estimators/estimator_types.png)"
   ]
  },
  {
   "cell_type": "code",
   "execution_count": 0,
   "metadata": {
    "cellView": "form",
    "colab": {},
    "colab_type": "code",
    "id": "p9IkYRHkElWF",
    "slideshow": {
     "slide_type": "skip"
    }
   },
   "outputs": [],
   "source": [
    "#@markdown Código para calcular la curva PR\n",
    "\n",
    "def draw_pr_curve(classifier):\n",
    "    predictions = np.array([p['logistic'][0] for p in classifier.predict(input_fn=eval_input_fn)])\n",
    "\n",
    "#     # Plot the curve\n",
    "#     precision, recall, _ = precision_recall_curve(y_test, predictions)\n",
    "#     plt.step(recall, precision, color='b', alpha=0.2, where='post')\n",
    "#     plt.fill_between(recall, precision, step='post', alpha=0.2, color='b')\n",
    "#     plt.xlabel('Recall')\n",
    "#     plt.ylabel('Precision')\n",
    "#     plt.ylim([0.0, 1.05])\n",
    "#     plt.xlim([0.0, 1.0])\n",
    "      \n",
    "    # Reset the graph to be able to reuse name scopes\n",
    "    tf.reset_default_graph() \n",
    "    # Add a PR summary in addition to the summaries that the classifier writes\n",
    "    pr = summary_lib.pr_curve('precision_recall', predictions=predictions, labels=y_test.astype(bool), num_thresholds=21)\n",
    "    with tf.Session() as sess:\n",
    "        writer = tf.summary.FileWriter(os.path.join(classifier.model_dir, 'eval'), sess.graph)\n",
    "        writer.add_summary(sess.run(pr), global_step=0)\n",
    "        writer.close()"
   ]
  },
  {
   "cell_type": "code",
   "execution_count": 0,
   "metadata": {
    "colab": {},
    "colab_type": "code",
    "id": "cH6qWnSK5d2x",
    "slideshow": {
     "slide_type": "subslide"
    }
   },
   "outputs": [],
   "source": [
    "all_classifiers = {}\n",
    "def train_and_evaluate(classifier):\n",
    "    all_classifiers[classifier.model_dir] = classifier\n",
    "    classifier.train(input_fn=train_input_fn, steps=5000)\n",
    "    eval_results = classifier.evaluate(input_fn=eval_input_fn)\n",
    "    draw_pr_curve(classifier)"
   ]
  },
  {
   "cell_type": "code",
   "execution_count": 21,
   "metadata": {
    "colab": {
     "base_uri": "https://localhost:8080/",
     "height": 2288
    },
    "colab_type": "code",
    "id": "4Gvam1wm5nzk",
    "outputId": "223605ab-185e-49b4-e931-568291f053ee",
    "slideshow": {
     "slide_type": "fragment"
    }
   },
   "outputs": [
    {
     "name": "stdout",
     "output_type": "stream",
     "text": [
      "INFO:tensorflow:Using default config.\n",
      "INFO:tensorflow:Using config: {'_model_dir': '/tmp/tmp43x26c8n/bow_sparse', '_tf_random_seed': None, '_save_summary_steps': 100, '_save_checkpoints_steps': None, '_save_checkpoints_secs': 600, '_session_config': allow_soft_placement: true\n",
      "graph_options {\n",
      "  rewrite_options {\n",
      "    meta_optimizer_iterations: ONE\n",
      "  }\n",
      "}\n",
      ", '_keep_checkpoint_max': 5, '_keep_checkpoint_every_n_hours': 10000, '_log_step_count_steps': 100, '_train_distribute': None, '_device_fn': None, '_protocol': None, '_eval_distribute': None, '_experimental_distribute': None, '_service': None, '_cluster_spec': <tensorflow.python.training.server_lib.ClusterSpec object at 0x7febd0afbbe0>, '_task_type': 'worker', '_task_id': 0, '_global_id_in_cluster': 0, '_master': '', '_evaluation_master': '', '_is_chief': True, '_num_ps_replicas': 0, '_num_worker_replicas': 1}\n",
      "INFO:tensorflow:Calling model_fn.\n",
      "INFO:tensorflow:Done calling model_fn.\n",
      "INFO:tensorflow:Create CheckpointSaverHook.\n",
      "INFO:tensorflow:Graph was finalized.\n",
      "INFO:tensorflow:Running local_init_op.\n",
      "INFO:tensorflow:Done running local_init_op.\n",
      "INFO:tensorflow:Saving checkpoints for 0 into /tmp/tmp43x26c8n/bow_sparse/model.ckpt.\n",
      "INFO:tensorflow:loss = 69.31472, step = 0\n",
      "INFO:tensorflow:global_step/sec: 74.2044\n",
      "INFO:tensorflow:loss = 21.007729, step = 100 (1.354 sec)\n",
      "INFO:tensorflow:global_step/sec: 97.7284\n",
      "INFO:tensorflow:loss = 8.146741, step = 200 (1.019 sec)\n",
      "INFO:tensorflow:global_step/sec: 97.5067\n",
      "INFO:tensorflow:loss = 16.00558, step = 300 (1.029 sec)\n",
      "INFO:tensorflow:global_step/sec: 90.1994\n",
      "INFO:tensorflow:loss = 7.4020567, step = 400 (1.107 sec)\n",
      "INFO:tensorflow:global_step/sec: 97.0912\n",
      "INFO:tensorflow:loss = 10.748516, step = 500 (1.027 sec)\n",
      "INFO:tensorflow:global_step/sec: 96.4121\n",
      "INFO:tensorflow:loss = 12.495168, step = 600 (1.040 sec)\n",
      "INFO:tensorflow:global_step/sec: 99.859\n",
      "INFO:tensorflow:loss = 10.820482, step = 700 (1.000 sec)\n",
      "INFO:tensorflow:global_step/sec: 93.4879\n",
      "INFO:tensorflow:loss = 5.6009, step = 800 (1.071 sec)\n",
      "INFO:tensorflow:global_step/sec: 100.598\n",
      "INFO:tensorflow:loss = 3.7857041, step = 900 (0.995 sec)\n",
      "INFO:tensorflow:global_step/sec: 100.669\n",
      "INFO:tensorflow:loss = 6.2577443, step = 1000 (0.991 sec)\n",
      "INFO:tensorflow:global_step/sec: 100.041\n",
      "INFO:tensorflow:loss = 7.9848595, step = 1100 (1.001 sec)\n",
      "INFO:tensorflow:global_step/sec: 93.2129\n",
      "INFO:tensorflow:loss = 7.4159923, step = 1200 (1.075 sec)\n",
      "INFO:tensorflow:global_step/sec: 100.419\n",
      "INFO:tensorflow:loss = 3.9935086, step = 1300 (0.992 sec)\n",
      "INFO:tensorflow:global_step/sec: 101.077\n",
      "INFO:tensorflow:loss = 5.099376, step = 1400 (0.992 sec)\n",
      "INFO:tensorflow:global_step/sec: 92.7261\n",
      "INFO:tensorflow:loss = 6.731308, step = 1500 (1.076 sec)\n",
      "INFO:tensorflow:global_step/sec: 100.41\n",
      "INFO:tensorflow:loss = 1.7663412, step = 1600 (0.999 sec)\n",
      "INFO:tensorflow:global_step/sec: 100.005\n",
      "INFO:tensorflow:loss = 5.359914, step = 1700 (0.999 sec)\n",
      "INFO:tensorflow:global_step/sec: 101.323\n",
      "INFO:tensorflow:loss = 8.359367, step = 1800 (0.987 sec)\n",
      "INFO:tensorflow:global_step/sec: 93.4018\n",
      "INFO:tensorflow:loss = 4.002772, step = 1900 (1.069 sec)\n",
      "INFO:tensorflow:global_step/sec: 100.608\n",
      "INFO:tensorflow:loss = 8.010852, step = 2000 (0.993 sec)\n",
      "INFO:tensorflow:global_step/sec: 99.3421\n",
      "INFO:tensorflow:loss = 7.0130033, step = 2100 (1.010 sec)\n",
      "INFO:tensorflow:global_step/sec: 101.031\n",
      "INFO:tensorflow:loss = 5.6716766, step = 2200 (0.988 sec)\n",
      "INFO:tensorflow:global_step/sec: 93.7418\n",
      "INFO:tensorflow:loss = 3.2564607, step = 2300 (1.069 sec)\n",
      "INFO:tensorflow:global_step/sec: 100.617\n",
      "INFO:tensorflow:loss = 10.458032, step = 2400 (0.992 sec)\n",
      "INFO:tensorflow:global_step/sec: 101.403\n",
      "INFO:tensorflow:loss = 4.022852, step = 2500 (0.987 sec)\n",
      "INFO:tensorflow:global_step/sec: 93.1847\n",
      "INFO:tensorflow:loss = 3.8637862, step = 2600 (1.073 sec)\n",
      "INFO:tensorflow:global_step/sec: 98.1959\n",
      "INFO:tensorflow:loss = 5.634002, step = 2700 (1.015 sec)\n",
      "INFO:tensorflow:global_step/sec: 101.587\n",
      "INFO:tensorflow:loss = 5.6257687, step = 2800 (0.987 sec)\n",
      "INFO:tensorflow:global_step/sec: 99.8758\n",
      "INFO:tensorflow:loss = 15.982742, step = 2900 (1.001 sec)\n",
      "INFO:tensorflow:global_step/sec: 92.748\n",
      "INFO:tensorflow:loss = 4.712029, step = 3000 (1.080 sec)\n",
      "INFO:tensorflow:global_step/sec: 100.814\n",
      "INFO:tensorflow:loss = 4.646823, step = 3100 (0.991 sec)\n",
      "INFO:tensorflow:global_step/sec: 101.599\n",
      "INFO:tensorflow:loss = 2.5590043, step = 3200 (0.980 sec)\n",
      "INFO:tensorflow:global_step/sec: 100.001\n",
      "INFO:tensorflow:loss = 3.2601478, step = 3300 (1.000 sec)\n",
      "INFO:tensorflow:global_step/sec: 93.2919\n",
      "INFO:tensorflow:loss = 3.3306882, step = 3400 (1.074 sec)\n",
      "INFO:tensorflow:global_step/sec: 100.367\n",
      "INFO:tensorflow:loss = 2.0442631, step = 3500 (0.998 sec)\n",
      "INFO:tensorflow:global_step/sec: 100.738\n",
      "INFO:tensorflow:loss = 4.6585913, step = 3600 (0.992 sec)\n",
      "INFO:tensorflow:global_step/sec: 93.4138\n",
      "INFO:tensorflow:loss = 3.1609788, step = 3700 (1.068 sec)\n",
      "INFO:tensorflow:global_step/sec: 100.797\n",
      "INFO:tensorflow:loss = 4.9145412, step = 3800 (0.992 sec)\n",
      "INFO:tensorflow:global_step/sec: 99.4403\n",
      "INFO:tensorflow:loss = 1.9302373, step = 3900 (1.010 sec)\n",
      "INFO:tensorflow:global_step/sec: 99.3441\n",
      "INFO:tensorflow:loss = 6.738381, step = 4000 (1.007 sec)\n",
      "INFO:tensorflow:global_step/sec: 92.6127\n",
      "INFO:tensorflow:loss = 5.3317285, step = 4100 (1.077 sec)\n",
      "INFO:tensorflow:global_step/sec: 101.817\n",
      "INFO:tensorflow:loss = 4.2499356, step = 4200 (0.984 sec)\n",
      "INFO:tensorflow:global_step/sec: 100.694\n",
      "INFO:tensorflow:loss = 3.9360197, step = 4300 (0.990 sec)\n",
      "INFO:tensorflow:global_step/sec: 100.438\n",
      "INFO:tensorflow:loss = 2.7966425, step = 4400 (1.000 sec)\n",
      "INFO:tensorflow:global_step/sec: 93.2687\n",
      "INFO:tensorflow:loss = 6.199197, step = 4500 (1.069 sec)\n",
      "INFO:tensorflow:global_step/sec: 101.102\n",
      "INFO:tensorflow:loss = 2.617331, step = 4600 (0.991 sec)\n",
      "INFO:tensorflow:global_step/sec: 101.578\n",
      "INFO:tensorflow:loss = 1.3874115, step = 4700 (0.982 sec)\n",
      "INFO:tensorflow:global_step/sec: 92.8602\n",
      "INFO:tensorflow:loss = 2.4199266, step = 4800 (1.075 sec)\n",
      "INFO:tensorflow:global_step/sec: 102.102\n",
      "INFO:tensorflow:loss = 3.2226334, step = 4900 (0.980 sec)\n",
      "INFO:tensorflow:Saving checkpoints for 5000 into /tmp/tmp43x26c8n/bow_sparse/model.ckpt.\n",
      "INFO:tensorflow:Loss for final step: 5.1386375.\n",
      "INFO:tensorflow:Calling model_fn.\n",
      "WARNING:tensorflow:Trapezoidal rule is known to produce incorrect PR-AUCs; please switch to \"careful_interpolation\" instead.\n",
      "WARNING:tensorflow:Trapezoidal rule is known to produce incorrect PR-AUCs; please switch to \"careful_interpolation\" instead.\n",
      "INFO:tensorflow:Done calling model_fn.\n",
      "INFO:tensorflow:Starting evaluation at 2018-10-20-02:37:55\n",
      "INFO:tensorflow:Graph was finalized.\n",
      "INFO:tensorflow:Restoring parameters from /tmp/tmp43x26c8n/bow_sparse/model.ckpt-5000\n",
      "INFO:tensorflow:Running local_init_op.\n",
      "INFO:tensorflow:Done running local_init_op.\n",
      "INFO:tensorflow:Finished evaluation at 2018-10-20-02:37:57\n",
      "INFO:tensorflow:Saving dict for global step 5000: accuracy = 0.96580434, accuracy_baseline = 0.66350985, auc = 0.9910399, auc_precision_recall = 0.9951315, average_loss = 0.10532457, global_step = 5000, label/mean = 0.66350985, loss = 10.487794, precision = 0.97432214, prediction/mean = 0.65681314, recall = 0.97413546\n",
      "INFO:tensorflow:Saving 'checkpoint_path' summary for global step 5000: /tmp/tmp43x26c8n/bow_sparse/model.ckpt-5000\n",
      "INFO:tensorflow:Calling model_fn.\n",
      "INFO:tensorflow:Done calling model_fn.\n",
      "INFO:tensorflow:Graph was finalized.\n",
      "INFO:tensorflow:Restoring parameters from /tmp/tmp43x26c8n/bow_sparse/model.ckpt-5000\n",
      "INFO:tensorflow:Running local_init_op.\n",
      "INFO:tensorflow:Done running local_init_op.\n"
     ]
    }
   ],
   "source": [
    "classifier = tf.estimator.LinearClassifier(feature_columns=[column], model_dir=os.path.join(model_dir, 'bow_sparse'))\n",
    "train_and_evaluate(classifier)"
   ]
  },
  {
   "cell_type": "markdown",
   "metadata": {
    "colab_type": "text",
    "id": "hSuC7n4Iccrd",
    "slideshow": {
     "slide_type": "subslide"
    }
   },
   "source": [
    "Uno de los beneficios de los predictores lineales es que son muy inspeccionables, podemos ver los features más relevantes con facilidad"
   ]
  },
  {
   "cell_type": "code",
   "execution_count": 23,
   "metadata": {
    "colab": {
     "base_uri": "https://localhost:8080/",
     "height": 399
    },
    "colab_type": "code",
    "id": "maZ5DyYD6xqx",
    "outputId": "7f6ef9cc-24d6-449c-dfc3-580406bf7fee",
    "slideshow": {
     "slide_type": "fragment"
    }
   },
   "outputs": [
    {
     "data": {
      "image/png": "[encoded data removed]",
      "text/plain": [
       "<matplotlib.figure.Figure at 0x7febcc7c3ba8>"
      ]
     },
     "metadata": {
      "tags": []
     },
     "output_type": "display_data"
    }
   ],
   "source": [
    "weights = classifier.get_variable_value('linear/linear_model/x/weights').flatten()\n",
    "sorted_indexes = np.argsort(weights)\n",
    "extremes = np.concatenate((sorted_indexes[-8:], sorted_indexes[:8]))\n",
    "extreme_weights = sorted([(weights[i], word_inverted_index[i - index_offset]) for i in extremes])\n",
    "\n",
    "y_pos = np.arange(len(extreme_weights))\n",
    "plt.bar(y_pos, [pair[0] for pair in extreme_weights], align='center', alpha=0.5)\n",
    "plt.xticks(y_pos, [pair[1] for pair in extreme_weights], rotation=45, ha='right')\n",
    "plt.ylabel('Weight')\n",
    "plt.title('Most significant tokens') \n",
    "plt.show()"
   ]
  },
  {
   "cell_type": "markdown",
   "metadata": {
    "colab_type": "text",
    "id": "fIXCY2YCl6z-",
    "slideshow": {
     "slide_type": "slide"
    }
   },
   "source": [
    "\n",
    "## Vamos Deeper"
   ]
  },
  {
   "cell_type": "markdown",
   "metadata": {
    "colab_type": "text",
    "id": "DsCh3Dzccu7L",
    "slideshow": {
     "slide_type": "subslide"
    }
   },
   "source": [
    "### Fully connected\n",
    "\n",
    "Acá podemos bifurcar los caminos, siguiendo complejizando los modelos lineales, uno de los grandes campeones de la clasificación de texto son los SVMs, con kernels no lineales, pero si queremos ir deeper, podemos agregar algunas capas intermedias..."
   ]
  },
  {
   "cell_type": "code",
   "execution_count": 27,
   "metadata": {
    "colab": {
     "base_uri": "https://localhost:8080/",
     "height": 5648
    },
    "colab_type": "code",
    "id": "86jMfEf4NpLW",
    "outputId": "b91a37f6-c235-4703-c397-d0900284d4d6",
    "slideshow": {
     "slide_type": "fragment"
    }
   },
   "outputs": [
    {
     "name": "stdout",
     "output_type": "stream",
     "text": [
      "INFO:tensorflow:Using default config.\n",
      "INFO:tensorflow:Using config: {'_model_dir': '/tmp/tmp3isqf8hw/bow_embeddings', '_tf_random_seed': None, '_save_summary_steps': 100, '_save_checkpoints_steps': None, '_save_checkpoints_secs': 600, '_session_config': allow_soft_placement: true\n",
      "graph_options {\n",
      "  rewrite_options {\n",
      "    meta_optimizer_iterations: ONE\n",
      "  }\n",
      "}\n",
      ", '_keep_checkpoint_max': 5, '_keep_checkpoint_every_n_hours': 10000, '_log_step_count_steps': 100, '_train_distribute': None, '_device_fn': None, '_protocol': None, '_eval_distribute': None, '_experimental_distribute': None, '_service': None, '_cluster_spec': <tensorflow.python.training.server_lib.ClusterSpec object at 0x7f21d4fd57b8>, '_task_type': 'worker', '_task_id': 0, '_global_id_in_cluster': 0, '_master': '', '_evaluation_master': '', '_is_chief': True, '_num_ps_replicas': 0, '_num_worker_replicas': 1}\n",
      "INFO:tensorflow:Calling model_fn.\n",
      "INFO:tensorflow:Done calling model_fn.\n",
      "INFO:tensorflow:Create CheckpointSaverHook.\n",
      "INFO:tensorflow:Graph was finalized.\n",
      "INFO:tensorflow:Running local_init_op.\n",
      "INFO:tensorflow:Done running local_init_op.\n",
      "INFO:tensorflow:Saving checkpoints for 0 into /tmp/tmp3isqf8hw/bow_embeddings/model.ckpt.\n",
      "INFO:tensorflow:loss = 68.389984, step = 0\n",
      "INFO:tensorflow:global_step/sec: 49.9202\n",
      "INFO:tensorflow:loss = 60.148384, step = 100 (2.008 sec)\n",
      "INFO:tensorflow:global_step/sec: 60.7012\n",
      "INFO:tensorflow:loss = 59.02127, step = 200 (1.645 sec)\n",
      "INFO:tensorflow:global_step/sec: 62.7991\n",
      "INFO:tensorflow:loss = 40.57781, step = 300 (1.592 sec)\n",
      "INFO:tensorflow:global_step/sec: 61.1766\n",
      "INFO:tensorflow:loss = 31.678307, step = 400 (1.638 sec)\n",
      "INFO:tensorflow:global_step/sec: 62.1833\n",
      "INFO:tensorflow:loss = 33.37588, step = 500 (1.608 sec)\n",
      "INFO:tensorflow:global_step/sec: 63.5105\n",
      "INFO:tensorflow:loss = 19.373632, step = 600 (1.572 sec)\n",
      "INFO:tensorflow:global_step/sec: 70.2394\n",
      "INFO:tensorflow:loss = 22.2225, step = 700 (1.427 sec)\n",
      "INFO:tensorflow:global_step/sec: 61.2188\n",
      "INFO:tensorflow:loss = 20.11082, step = 800 (1.636 sec)\n",
      "INFO:tensorflow:global_step/sec: 65.0382\n",
      "INFO:tensorflow:loss = 13.12772, step = 900 (1.532 sec)\n",
      "INFO:tensorflow:global_step/sec: 65.235\n",
      "INFO:tensorflow:loss = 17.40796, step = 1000 (1.533 sec)\n",
      "INFO:tensorflow:global_step/sec: 60.4888\n",
      "INFO:tensorflow:loss = 12.736837, step = 1100 (1.653 sec)\n",
      "INFO:tensorflow:global_step/sec: 61.3768\n",
      "INFO:tensorflow:loss = 27.182951, step = 1200 (1.633 sec)\n",
      "INFO:tensorflow:global_step/sec: 68.8514\n",
      "INFO:tensorflow:loss = 6.5443053, step = 1300 (1.452 sec)\n",
      "INFO:tensorflow:global_step/sec: 69.2161\n",
      "INFO:tensorflow:loss = 17.281004, step = 1400 (1.441 sec)\n",
      "INFO:tensorflow:global_step/sec: 66.9084\n",
      "INFO:tensorflow:loss = 18.73842, step = 1500 (1.495 sec)\n",
      "INFO:tensorflow:global_step/sec: 69.4974\n",
      "INFO:tensorflow:loss = 13.060883, step = 1600 (1.439 sec)\n",
      "INFO:tensorflow:global_step/sec: 70.6718\n",
      "INFO:tensorflow:loss = 6.353765, step = 1700 (1.414 sec)\n",
      "INFO:tensorflow:global_step/sec: 69.1527\n",
      "INFO:tensorflow:loss = 9.815592, step = 1800 (1.447 sec)\n",
      "INFO:tensorflow:global_step/sec: 63.3711\n",
      "INFO:tensorflow:loss = 5.413851, step = 1900 (1.584 sec)\n",
      "INFO:tensorflow:global_step/sec: 60.853\n",
      "INFO:tensorflow:loss = 11.270531, step = 2000 (1.642 sec)\n",
      "INFO:tensorflow:global_step/sec: 62.9967\n",
      "INFO:tensorflow:loss = 11.576701, step = 2100 (1.583 sec)\n",
      "INFO:tensorflow:global_step/sec: 64.2683\n",
      "INFO:tensorflow:loss = 7.8116903, step = 2200 (1.557 sec)\n",
      "INFO:tensorflow:global_step/sec: 60.4745\n",
      "INFO:tensorflow:loss = 7.160853, step = 2300 (1.657 sec)\n",
      "INFO:tensorflow:global_step/sec: 58.3196\n",
      "INFO:tensorflow:loss = 3.753869, step = 2400 (1.716 sec)\n",
      "INFO:tensorflow:global_step/sec: 67.6077\n",
      "INFO:tensorflow:loss = 10.613658, step = 2500 (1.475 sec)\n",
      "INFO:tensorflow:global_step/sec: 61.9939\n",
      "INFO:tensorflow:loss = 3.2483404, step = 2600 (1.616 sec)\n",
      "INFO:tensorflow:global_step/sec: 61.9005\n",
      "INFO:tensorflow:loss = 4.0708113, step = 2700 (1.617 sec)\n",
      "INFO:tensorflow:global_step/sec: 66.8494\n",
      "INFO:tensorflow:loss = 12.161056, step = 2800 (1.491 sec)\n",
      "INFO:tensorflow:global_step/sec: 64.8768\n",
      "INFO:tensorflow:loss = 10.159848, step = 2900 (1.544 sec)\n",
      "INFO:tensorflow:global_step/sec: 61.9829\n",
      "INFO:tensorflow:loss = 9.339679, step = 3000 (1.611 sec)\n",
      "INFO:tensorflow:global_step/sec: 65.1418\n",
      "INFO:tensorflow:loss = 4.216847, step = 3100 (1.535 sec)\n",
      "INFO:tensorflow:global_step/sec: 65.4033\n",
      "INFO:tensorflow:loss = 20.895077, step = 3200 (1.530 sec)\n",
      "INFO:tensorflow:global_step/sec: 61.2602\n",
      "INFO:tensorflow:loss = 6.0690207, step = 3300 (1.634 sec)\n",
      "INFO:tensorflow:global_step/sec: 59.9366\n",
      "INFO:tensorflow:loss = 19.52416, step = 3400 (1.666 sec)\n",
      "INFO:tensorflow:global_step/sec: 61.9781\n",
      "INFO:tensorflow:loss = 6.5373745, step = 3500 (1.616 sec)\n",
      "INFO:tensorflow:global_step/sec: 63.6221\n",
      "INFO:tensorflow:loss = 9.517408, step = 3600 (1.573 sec)\n",
      "INFO:tensorflow:global_step/sec: 57.6782\n",
      "INFO:tensorflow:loss = 10.53611, step = 3700 (1.733 sec)\n",
      "INFO:tensorflow:global_step/sec: 64.9533\n",
      "INFO:tensorflow:loss = 2.6684525, step = 3800 (1.536 sec)\n",
      "INFO:tensorflow:global_step/sec: 66.6478\n",
      "INFO:tensorflow:loss = 10.523245, step = 3900 (1.503 sec)\n",
      "INFO:tensorflow:global_step/sec: 67.8023\n",
      "INFO:tensorflow:loss = 12.470558, step = 4000 (1.476 sec)\n",
      "INFO:tensorflow:global_step/sec: 59.2489\n",
      "INFO:tensorflow:loss = 8.268527, step = 4100 (1.686 sec)\n",
      "INFO:tensorflow:global_step/sec: 64.0416\n",
      "INFO:tensorflow:loss = 3.0939398, step = 4200 (1.559 sec)\n",
      "INFO:tensorflow:global_step/sec: 63.7672\n",
      "INFO:tensorflow:loss = 5.0522327, step = 4300 (1.574 sec)\n",
      "INFO:tensorflow:global_step/sec: 65.8932\n",
      "INFO:tensorflow:loss = 4.6698365, step = 4400 (1.519 sec)\n",
      "INFO:tensorflow:global_step/sec: 62.8432\n",
      "INFO:tensorflow:loss = 6.333212, step = 4500 (1.588 sec)\n",
      "INFO:tensorflow:global_step/sec: 62.3085\n",
      "INFO:tensorflow:loss = 3.4778426, step = 4600 (1.607 sec)\n",
      "INFO:tensorflow:global_step/sec: 64.9242\n",
      "INFO:tensorflow:loss = 4.860959, step = 4700 (1.540 sec)\n",
      "INFO:tensorflow:global_step/sec: 60.6986\n",
      "INFO:tensorflow:loss = 8.353778, step = 4800 (1.644 sec)\n",
      "INFO:tensorflow:global_step/sec: 62.0365\n",
      "INFO:tensorflow:loss = 15.188741, step = 4900 (1.612 sec)\n",
      "INFO:tensorflow:global_step/sec: 63.1986\n",
      "INFO:tensorflow:loss = 14.615198, step = 5000 (1.583 sec)\n",
      "INFO:tensorflow:global_step/sec: 69.7054\n",
      "INFO:tensorflow:loss = 2.4595134, step = 5100 (1.436 sec)\n",
      "INFO:tensorflow:global_step/sec: 65.1911\n",
      "INFO:tensorflow:loss = 10.919692, step = 5200 (1.531 sec)\n",
      "INFO:tensorflow:global_step/sec: 70.2283\n",
      "INFO:tensorflow:loss = 4.628795, step = 5300 (1.428 sec)\n",
      "INFO:tensorflow:global_step/sec: 69.9486\n",
      "INFO:tensorflow:loss = 5.898924, step = 5400 (1.426 sec)\n",
      "INFO:tensorflow:global_step/sec: 68.772\n",
      "INFO:tensorflow:loss = 5.9011693, step = 5500 (1.456 sec)\n",
      "INFO:tensorflow:global_step/sec: 67.3278\n",
      "INFO:tensorflow:loss = 3.4940038, step = 5600 (1.483 sec)\n",
      "INFO:tensorflow:global_step/sec: 70.1827\n",
      "INFO:tensorflow:loss = 2.9328566, step = 5700 (1.431 sec)\n",
      "INFO:tensorflow:global_step/sec: 70.9778\n",
      "INFO:tensorflow:loss = 6.360457, step = 5800 (1.403 sec)\n",
      "INFO:tensorflow:global_step/sec: 66.5866\n",
      "INFO:tensorflow:loss = 5.4141397, step = 5900 (1.503 sec)\n",
      "INFO:tensorflow:global_step/sec: 69.6681\n",
      "INFO:tensorflow:loss = 2.2026558, step = 6000 (1.434 sec)\n",
      "INFO:tensorflow:global_step/sec: 69.1348\n",
      "INFO:tensorflow:loss = 3.352736, step = 6100 (1.449 sec)\n",
      "INFO:tensorflow:global_step/sec: 69.9391\n",
      "INFO:tensorflow:loss = 3.5466528, step = 6200 (1.430 sec)\n",
      "INFO:tensorflow:global_step/sec: 61.5732\n",
      "INFO:tensorflow:loss = 4.8296905, step = 6300 (1.621 sec)\n",
      "INFO:tensorflow:global_step/sec: 65.32\n",
      "INFO:tensorflow:loss = 5.177744, step = 6400 (1.530 sec)\n",
      "INFO:tensorflow:global_step/sec: 63.6128\n",
      "INFO:tensorflow:loss = 11.817714, step = 6500 (1.577 sec)\n",
      "INFO:tensorflow:global_step/sec: 62.9441\n",
      "INFO:tensorflow:loss = 2.6722155, step = 6600 (1.590 sec)\n",
      "INFO:tensorflow:global_step/sec: 63.2995\n",
      "INFO:tensorflow:loss = 8.780106, step = 6700 (1.575 sec)\n",
      "INFO:tensorflow:global_step/sec: 63.4096\n",
      "INFO:tensorflow:loss = 3.7466643, step = 6800 (1.580 sec)\n",
      "INFO:tensorflow:global_step/sec: 69.9409\n",
      "INFO:tensorflow:loss = 3.3229425, step = 6900 (1.430 sec)\n",
      "INFO:tensorflow:global_step/sec: 65.8476\n",
      "INFO:tensorflow:loss = 7.5840826, step = 7000 (1.515 sec)\n",
      "INFO:tensorflow:global_step/sec: 71.4266\n",
      "INFO:tensorflow:loss = 3.0558922, step = 7100 (1.402 sec)\n",
      "INFO:tensorflow:global_step/sec: 70.8046\n",
      "INFO:tensorflow:loss = 3.0663433, step = 7200 (1.415 sec)\n",
      "INFO:tensorflow:global_step/sec: 70.2923\n",
      "INFO:tensorflow:loss = 0.75059855, step = 7300 (1.422 sec)\n",
      "INFO:tensorflow:global_step/sec: 67.0919\n",
      "INFO:tensorflow:loss = 5.558611, step = 7400 (1.490 sec)\n",
      "INFO:tensorflow:global_step/sec: 62.6868\n",
      "INFO:tensorflow:loss = 8.387833, step = 7500 (1.596 sec)\n",
      "INFO:tensorflow:global_step/sec: 68.5935\n",
      "INFO:tensorflow:loss = 12.133748, step = 7600 (1.458 sec)\n",
      "INFO:tensorflow:global_step/sec: 68.0523\n",
      "INFO:tensorflow:loss = 0.9847347, step = 7700 (1.466 sec)\n",
      "INFO:tensorflow:global_step/sec: 57.8736\n",
      "INFO:tensorflow:loss = 6.4812646, step = 7800 (1.728 sec)\n",
      "INFO:tensorflow:global_step/sec: 60.8785\n",
      "INFO:tensorflow:loss = 2.4294598, step = 7900 (1.646 sec)\n",
      "INFO:tensorflow:global_step/sec: 64.3775\n",
      "INFO:tensorflow:loss = 0.9636093, step = 8000 (1.550 sec)\n",
      "INFO:tensorflow:global_step/sec: 63.9718\n",
      "INFO:tensorflow:loss = 7.471739, step = 8100 (1.568 sec)\n",
      "INFO:tensorflow:global_step/sec: 63.1039\n",
      "INFO:tensorflow:loss = 13.272029, step = 8200 (1.580 sec)\n",
      "INFO:tensorflow:global_step/sec: 66.4799\n",
      "INFO:tensorflow:loss = 9.702201, step = 8300 (1.504 sec)\n",
      "INFO:tensorflow:global_step/sec: 67.3446\n",
      "INFO:tensorflow:loss = 2.9021292, step = 8400 (1.486 sec)\n",
      "INFO:tensorflow:global_step/sec: 67.3442\n",
      "INFO:tensorflow:loss = 5.9141526, step = 8500 (1.487 sec)\n",
      "INFO:tensorflow:global_step/sec: 72.2793\n",
      "INFO:tensorflow:loss = 0.5505783, step = 8600 (1.383 sec)\n",
      "INFO:tensorflow:global_step/sec: 71.399\n",
      "INFO:tensorflow:loss = 3.0539992, step = 8700 (1.402 sec)\n",
      "INFO:tensorflow:global_step/sec: 61.6915\n",
      "INFO:tensorflow:loss = 5.536599, step = 8800 (1.620 sec)\n",
      "INFO:tensorflow:global_step/sec: 63.8114\n",
      "INFO:tensorflow:loss = 2.595124, step = 8900 (1.564 sec)\n",
      "INFO:tensorflow:global_step/sec: 69.4359\n",
      "INFO:tensorflow:loss = 5.580316, step = 9000 (1.444 sec)\n",
      "INFO:tensorflow:global_step/sec: 64.2205\n",
      "INFO:tensorflow:loss = 2.0216033, step = 9100 (1.553 sec)\n",
      "INFO:tensorflow:global_step/sec: 63.0256\n",
      "INFO:tensorflow:loss = 3.4742055, step = 9200 (1.590 sec)\n",
      "INFO:tensorflow:global_step/sec: 71.9455\n",
      "INFO:tensorflow:loss = 3.7125268, step = 9300 (1.391 sec)\n",
      "INFO:tensorflow:global_step/sec: 71.5119\n",
      "INFO:tensorflow:loss = 1.9000691, step = 9400 (1.396 sec)\n",
      "INFO:tensorflow:global_step/sec: 67.5855\n",
      "INFO:tensorflow:loss = 4.927365, step = 9500 (1.483 sec)\n",
      "INFO:tensorflow:global_step/sec: 60.803\n",
      "INFO:tensorflow:loss = 3.391676, step = 9600 (1.644 sec)\n",
      "INFO:tensorflow:global_step/sec: 65.8385\n",
      "INFO:tensorflow:loss = 6.581366, step = 9700 (1.514 sec)\n",
      "INFO:tensorflow:global_step/sec: 66.4615\n",
      "INFO:tensorflow:loss = 1.3212067, step = 9800 (1.509 sec)\n",
      "INFO:tensorflow:global_step/sec: 63.7389\n",
      "INFO:tensorflow:loss = 5.222097, step = 9900 (1.570 sec)\n",
      "INFO:tensorflow:global_step/sec: 61.656\n",
      "INFO:tensorflow:loss = 8.312326, step = 10000 (1.623 sec)\n",
      "INFO:tensorflow:global_step/sec: 71.3623\n",
      "INFO:tensorflow:loss = 4.815559, step = 10100 (1.396 sec)\n",
      "INFO:tensorflow:global_step/sec: 69.3016\n",
      "INFO:tensorflow:loss = 4.9207993, step = 10200 (1.443 sec)\n",
      "INFO:tensorflow:global_step/sec: 60.8587\n",
      "INFO:tensorflow:loss = 4.1456985, step = 10300 (1.646 sec)\n",
      "INFO:tensorflow:global_step/sec: 64.6407\n",
      "INFO:tensorflow:loss = 0.5997162, step = 10400 (1.544 sec)\n",
      "INFO:tensorflow:global_step/sec: 68.7986\n",
      "INFO:tensorflow:loss = 2.8612244, step = 10500 (1.453 sec)\n",
      "INFO:tensorflow:global_step/sec: 60.8617\n",
      "INFO:tensorflow:loss = 2.6432571, step = 10600 (1.644 sec)\n",
      "INFO:tensorflow:global_step/sec: 63.506\n",
      "INFO:tensorflow:loss = 9.637709, step = 10700 (1.574 sec)\n",
      "INFO:tensorflow:global_step/sec: 67.1472\n",
      "INFO:tensorflow:loss = 0.8004737, step = 10800 (1.490 sec)\n",
      "INFO:tensorflow:global_step/sec: 71.6732\n",
      "INFO:tensorflow:loss = 1.8003932, step = 10900 (1.399 sec)\n",
      "INFO:tensorflow:global_step/sec: 71.0293\n",
      "INFO:tensorflow:loss = 15.275931, step = 11000 (1.406 sec)\n",
      "INFO:tensorflow:global_step/sec: 65.5772\n",
      "INFO:tensorflow:loss = 3.0434988, step = 11100 (1.526 sec)\n",
      "INFO:tensorflow:global_step/sec: 70.0915\n",
      "INFO:tensorflow:loss = 2.2736042, step = 11200 (1.425 sec)\n",
      "INFO:tensorflow:global_step/sec: 71.3364\n",
      "INFO:tensorflow:loss = 2.5096543, step = 11300 (1.399 sec)\n",
      "INFO:tensorflow:global_step/sec: 69.23\n",
      "INFO:tensorflow:loss = 3.2037513, step = 11400 (1.449 sec)\n",
      "INFO:tensorflow:global_step/sec: 67.6415\n",
      "INFO:tensorflow:loss = 0.89438313, step = 11500 (1.479 sec)\n",
      "INFO:tensorflow:global_step/sec: 65.4826\n",
      "INFO:tensorflow:loss = 3.6028173, step = 11600 (1.526 sec)\n",
      "INFO:tensorflow:global_step/sec: 65.7696\n",
      "INFO:tensorflow:loss = 3.8366003, step = 11700 (1.518 sec)\n",
      "INFO:tensorflow:global_step/sec: 60.5619\n",
      "INFO:tensorflow:loss = 2.409309, step = 11800 (1.649 sec)\n",
      "INFO:tensorflow:global_step/sec: 64.6634\n",
      "INFO:tensorflow:loss = 2.299124, step = 11900 (1.549 sec)\n",
      "INFO:tensorflow:global_step/sec: 62.966\n",
      "INFO:tensorflow:loss = 3.8487628, step = 12000 (1.590 sec)\n",
      "INFO:tensorflow:global_step/sec: 60.4602\n",
      "INFO:tensorflow:loss = 0.8890373, step = 12100 (1.653 sec)\n",
      "INFO:tensorflow:global_step/sec: 60.8298\n",
      "INFO:tensorflow:loss = 5.774823, step = 12200 (1.645 sec)\n",
      "INFO:tensorflow:global_step/sec: 64.7684\n",
      "INFO:tensorflow:loss = 0.99029845, step = 12300 (1.540 sec)\n",
      "INFO:tensorflow:global_step/sec: 68.4476\n",
      "INFO:tensorflow:loss = 12.4673605, step = 12400 (1.464 sec)\n",
      "INFO:tensorflow:global_step/sec: 59.9541\n",
      "INFO:tensorflow:loss = 5.3935094, step = 12500 (1.670 sec)\n",
      "INFO:tensorflow:global_step/sec: 57.3795\n",
      "INFO:tensorflow:loss = 2.442435, step = 12600 (1.742 sec)\n",
      "INFO:tensorflow:global_step/sec: 69.2398\n",
      "INFO:tensorflow:loss = 2.5731776, step = 12700 (1.444 sec)\n",
      "INFO:tensorflow:global_step/sec: 64.6191\n",
      "INFO:tensorflow:loss = 1.0474232, step = 12800 (1.542 sec)\n",
      "INFO:tensorflow:global_step/sec: 57.9211\n",
      "INFO:tensorflow:loss = 3.20477, step = 12900 (1.732 sec)\n",
      "INFO:tensorflow:global_step/sec: 67.7379\n",
      "INFO:tensorflow:loss = 4.7918053, step = 13000 (1.478 sec)\n",
      "INFO:tensorflow:global_step/sec: 63.8931\n",
      "INFO:tensorflow:loss = 10.773488, step = 13100 (1.562 sec)\n",
      "INFO:tensorflow:global_step/sec: 70.9868\n",
      "INFO:tensorflow:loss = 3.5378761, step = 13200 (1.408 sec)\n",
      "INFO:tensorflow:global_step/sec: 66.4533\n",
      "INFO:tensorflow:loss = 5.578799, step = 13300 (1.501 sec)\n",
      "INFO:tensorflow:global_step/sec: 70.3914\n",
      "INFO:tensorflow:loss = 4.9183307, step = 13400 (1.420 sec)\n",
      "INFO:tensorflow:global_step/sec: 61.4661\n",
      "INFO:tensorflow:loss = 4.244455, step = 13500 (1.627 sec)\n",
      "INFO:tensorflow:global_step/sec: 65.7422\n",
      "INFO:tensorflow:loss = 2.7834928, step = 13600 (1.522 sec)\n",
      "INFO:tensorflow:global_step/sec: 63.8659\n",
      "INFO:tensorflow:loss = 6.367489, step = 13700 (1.565 sec)\n",
      "INFO:tensorflow:global_step/sec: 64.216\n",
      "INFO:tensorflow:loss = 3.7311885, step = 13800 (1.558 sec)\n",
      "INFO:tensorflow:global_step/sec: 65.539\n",
      "INFO:tensorflow:loss = 3.7149596, step = 13900 (1.528 sec)\n",
      "INFO:tensorflow:global_step/sec: 66.6087\n",
      "INFO:tensorflow:loss = 1.1633126, step = 14000 (1.503 sec)\n",
      "INFO:tensorflow:global_step/sec: 71.5642\n",
      "INFO:tensorflow:loss = 2.208962, step = 14100 (1.398 sec)\n",
      "INFO:tensorflow:global_step/sec: 70.5239\n",
      "INFO:tensorflow:loss = 5.4077806, step = 14200 (1.415 sec)\n",
      "INFO:tensorflow:global_step/sec: 71.1118\n",
      "INFO:tensorflow:loss = 7.823989, step = 14300 (1.408 sec)\n",
      "INFO:tensorflow:global_step/sec: 65.7616\n",
      "INFO:tensorflow:loss = 1.7678924, step = 14400 (1.521 sec)\n",
      "INFO:tensorflow:global_step/sec: 71.0538\n",
      "INFO:tensorflow:loss = 1.1833795, step = 14500 (1.407 sec)\n",
      "INFO:tensorflow:global_step/sec: 71.0972\n",
      "INFO:tensorflow:loss = 2.40641, step = 14600 (1.404 sec)\n",
      "INFO:tensorflow:global_step/sec: 65.678\n",
      "INFO:tensorflow:loss = 2.0496764, step = 14700 (1.522 sec)\n",
      "INFO:tensorflow:global_step/sec: 62.6092\n",
      "INFO:tensorflow:loss = 3.4919062, step = 14800 (1.599 sec)\n",
      "INFO:tensorflow:global_step/sec: 64.3509\n",
      "INFO:tensorflow:loss = 0.99685156, step = 14900 (1.552 sec)\n",
      "INFO:tensorflow:Saving checkpoints for 15000 into /tmp/tmp3isqf8hw/bow_embeddings/model.ckpt.\n",
      "INFO:tensorflow:Loss for final step: 2.0413806.\n",
      "INFO:tensorflow:Calling model_fn.\n",
      "WARNING:tensorflow:Trapezoidal rule is known to produce incorrect PR-AUCs; please switch to \"careful_interpolation\" instead.\n",
      "WARNING:tensorflow:Trapezoidal rule is known to produce incorrect PR-AUCs; please switch to \"careful_interpolation\" instead.\n",
      "INFO:tensorflow:Done calling model_fn.\n",
      "INFO:tensorflow:Starting evaluation at 2018-10-19-16:31:54\n",
      "INFO:tensorflow:Graph was finalized.\n",
      "INFO:tensorflow:Restoring parameters from /tmp/tmp3isqf8hw/bow_embeddings/model.ckpt-15000\n",
      "INFO:tensorflow:Running local_init_op.\n",
      "INFO:tensorflow:Done running local_init_op.\n",
      "INFO:tensorflow:Finished evaluation at 2018-10-19-16:31:57\n",
      "INFO:tensorflow:Saving dict for global step 15000: accuracy = 0.96485096, accuracy_baseline = 0.66350985, auc = 0.9901126, auc_precision_recall = 0.99503237, average_loss = 0.11875925, global_step = 15000, label/mean = 0.66350985, loss = 11.825565, precision = 0.976296, prediction/mean = 0.6563753, recall = 0.97059107\n",
      "INFO:tensorflow:Saving 'checkpoint_path' summary for global step 15000: /tmp/tmp3isqf8hw/bow_embeddings/model.ckpt-15000\n",
      "INFO:tensorflow:Calling model_fn.\n",
      "INFO:tensorflow:Done calling model_fn.\n",
      "INFO:tensorflow:Graph was finalized.\n",
      "INFO:tensorflow:Restoring parameters from /tmp/tmp3isqf8hw/bow_embeddings/model.ckpt-15000\n",
      "INFO:tensorflow:Running local_init_op.\n",
      "INFO:tensorflow:Done running local_init_op.\n"
     ]
    }
   ],
   "source": [
    "classifier = tf.estimator.DNNClassifier(\n",
    "    hidden_units=[100],\n",
    "    feature_columns=[word_embedding_column], \n",
    "    model_dir=os.path.join(model_dir, 'bow_embeddings'))\n",
    "\n",
    "train_and_evaluate(classifier)"
   ]
  },
  {
   "cell_type": "markdown",
   "metadata": {
    "colab_type": "text",
    "id": "g8qQep5feWei",
    "slideshow": {
     "slide_type": "subslide"
    }
   },
   "source": [
    "Podemos usar TensorBoard para visualizar los vectores que aprendió el modelos proyectados a $\\mathbb{R}^3$ usando *t-SNE*. El siguiente código genera un archivo con los labels que podemos cargar para visualizar que vector corresponde a cada palabra.\n",
    "\n",
    "![Embedding image](https://github.com/eisenjulian/nlp_estimator_tutorial/blob/master/embeddings.gif?raw=true)"
   ]
  },
  {
   "cell_type": "code",
   "execution_count": 0,
   "metadata": {
    "cellView": "form",
    "colab": {},
    "colab_type": "code",
    "id": "IM1Nizn0fUmF",
    "slideshow": {
     "slide_type": "skip"
    }
   },
   "outputs": [],
   "source": [
    "#@markdown Descargar archivo de labels para los vectores\n",
    "from google.colab import files\n",
    "with open(os.path.join(model_dir, 'metadata.tsv'), 'w', encoding=\"utf-8\") as f:\n",
    "    for i in range(index_offset + 1):\n",
    "        f.write('<_{}_>\\n'.format(i))\n",
    "    for index in range(1, vocab_size - index_offset):\n",
    "        f.write(word_inverted_index[index] + '\\n')\n",
    "files.download(os.path.join(model_dir, 'metadata.tsv'))"
   ]
  },
  {
   "cell_type": "markdown",
   "metadata": {
    "colab_type": "text",
    "id": "fRxL7UxsfhXO",
    "slideshow": {
     "slide_type": "slide"
    }
   },
   "source": [
    "### Convoluciones\n",
    "\n",
    "Las convoluciones apuntan a salirnos del modelo de bolsa de palabras para poder procesar ventanas de texto dentro de un documento.\n",
    "\n",
    "![cnn](https://cdn-images-1.medium.com/max/1000/1*TsW55MIvzHwb-GRA21Q7Zw.png)"
   ]
  },
  {
   "cell_type": "code",
   "execution_count": 0,
   "metadata": {
    "colab": {},
    "colab_type": "code",
    "id": "EUBBaR-Gg6Vq",
    "slideshow": {
     "slide_type": "subslide"
    }
   },
   "outputs": [],
   "source": [
    "def get_cnn_logits(features, training, params):\n",
    "  \n",
    "    input_layer = tf.contrib.layers.embed_sequence(\n",
    "        features['x'], vocab_size, embedding_size,\n",
    "        trainable=params['embedding_trainable'],\n",
    "        initializer=params['embedding_initializer'])\n",
    "  \n",
    "    dropout_emb = tf.layers.dropout(inputs=input_layer, \n",
    "                                    rate=0.2, \n",
    "                                    training=training)\n",
    "\n",
    "    conv = tf.layers.conv1d(\n",
    "        inputs=dropout_emb,\n",
    "        filters=32,\n",
    "        kernel_size=3,\n",
    "        padding=\"same\",\n",
    "        activation=tf.nn.relu)\n",
    "    \n",
    "    pool = tf.reduce_max(input_tensor=conv, axis=1) # Global Max Pooling\n",
    "    \n",
    "    hidden = tf.layers.dense(inputs=pool, units=250, activation=tf.nn.relu)\n",
    "    \n",
    "    dropout_hidden = tf.layers.dropout(inputs=hidden, \n",
    "                                       rate=0.2, \n",
    "                                       training=training)\n",
    "    \n",
    "    return tf.layers.dense(inputs=dropout_hidden, units=1)"
   ]
  },
  {
   "cell_type": "markdown",
   "metadata": {
    "colab_type": "text",
    "id": "HvcEbNgFisdX",
    "slideshow": {
     "slide_type": "subslide"
    }
   },
   "source": [
    "![alt text](https://raw.githubusercontent.com/eisenjulian/nlp_estimator_tutorial/master/mermaid/cnn.png)"
   ]
  },
  {
   "cell_type": "markdown",
   "metadata": {
    "colab_type": "text",
    "id": "HvcEbNgFisdX",
    "slideshow": {
     "slide_type": "subslide"
    }
   },
   "source": [
    "Un estimador se define a partir de una función `model_fn(features, labels, mode, params)`"
   ]
  },
  {
   "cell_type": "code",
   "execution_count": 0,
   "metadata": {
    "colab": {},
    "colab_type": "code",
    "id": "oa87AvyYkKBa",
    "slideshow": {
     "slide_type": "fragment"
    }
   },
   "outputs": [],
   "source": [
    "head = tf.contrib.estimator.binary_classification_head()\n",
    "\n",
    "def cnn_model_fn(features, labels, mode, params):    \n",
    "    training = mode == tf.estimator.ModeKeys.TRAIN\n",
    "    \n",
    "    logits = get_cnn_logits(features, training, params)\n",
    "\n",
    "    optimizer = tf.train.AdamOptimizer()\n",
    "    \n",
    "    def _train_op_fn(loss):\n",
    "        return optimizer.minimize(\n",
    "            loss=loss,\n",
    "            global_step=tf.train.get_global_step())\n",
    "\n",
    "    return head.create_estimator_spec(\n",
    "        features=features,\n",
    "        labels=tf.reshape(labels, [-1, 1]) if labels is not None else None,\n",
    "        mode=mode,\n",
    "        logits=logits, \n",
    "        train_op_fn=_train_op_fn)"
   ]
  },
  {
   "cell_type": "code",
   "execution_count": 0,
   "metadata": {
    "colab": {},
    "colab_type": "code",
    "id": "Px5hERDqj_Zi",
    "slideshow": {
     "slide_type": "subslide"
    }
   },
   "outputs": [],
   "source": [
    "params = {\n",
    "    'embedding_initializer': tf.random_uniform_initializer(-1.0, 1.0),\n",
    "    'embedding_trainable': True\n",
    "}"
   ]
  },
  {
   "cell_type": "code",
   "execution_count": 29,
   "metadata": {
    "colab": {
     "base_uri": "https://localhost:8080/",
     "height": 2288
    },
    "colab_type": "code",
    "id": "eq67F73TNrNw",
    "outputId": "ccca545e-de73-46e1-f5de-d932833e90fc",
    "slideshow": {
     "slide_type": "fragment"
    }
   },
   "outputs": [
    {
     "name": "stdout",
     "output_type": "stream",
     "text": [
      "INFO:tensorflow:Using default config.\n",
      "INFO:tensorflow:Using config: {'_model_dir': '/tmp/tmp43x26c8n/cnn', '_tf_random_seed': None, '_save_summary_steps': 100, '_save_checkpoints_steps': None, '_save_checkpoints_secs': 600, '_session_config': allow_soft_placement: true\n",
      "graph_options {\n",
      "  rewrite_options {\n",
      "    meta_optimizer_iterations: ONE\n",
      "  }\n",
      "}\n",
      ", '_keep_checkpoint_max': 5, '_keep_checkpoint_every_n_hours': 10000, '_log_step_count_steps': 100, '_train_distribute': None, '_device_fn': None, '_protocol': None, '_eval_distribute': None, '_experimental_distribute': None, '_service': None, '_cluster_spec': <tensorflow.python.training.server_lib.ClusterSpec object at 0x7febcc9d4588>, '_task_type': 'worker', '_task_id': 0, '_global_id_in_cluster': 0, '_master': '', '_evaluation_master': '', '_is_chief': True, '_num_ps_replicas': 0, '_num_worker_replicas': 1}\n",
      "INFO:tensorflow:Calling model_fn.\n",
      "INFO:tensorflow:Done calling model_fn.\n",
      "INFO:tensorflow:Create CheckpointSaverHook.\n",
      "INFO:tensorflow:Graph was finalized.\n",
      "INFO:tensorflow:Running local_init_op.\n",
      "INFO:tensorflow:Done running local_init_op.\n",
      "INFO:tensorflow:Saving checkpoints for 0 into /tmp/tmp43x26c8n/cnn/model.ckpt.\n",
      "INFO:tensorflow:loss = 0.680052, step = 0\n",
      "INFO:tensorflow:global_step/sec: 70.0503\n",
      "INFO:tensorflow:loss = 0.47510922, step = 100 (1.432 sec)\n",
      "INFO:tensorflow:global_step/sec: 100.956\n",
      "INFO:tensorflow:loss = 0.27631557, step = 200 (0.992 sec)\n",
      "INFO:tensorflow:global_step/sec: 101.494\n",
      "INFO:tensorflow:loss = 0.2799267, step = 300 (0.986 sec)\n",
      "INFO:tensorflow:global_step/sec: 94.6904\n",
      "INFO:tensorflow:loss = 0.17059124, step = 400 (1.056 sec)\n",
      "INFO:tensorflow:global_step/sec: 102.784\n",
      "INFO:tensorflow:loss = 0.22372505, step = 500 (0.973 sec)\n",
      "INFO:tensorflow:global_step/sec: 102.977\n",
      "INFO:tensorflow:loss = 0.21556525, step = 600 (0.970 sec)\n",
      "INFO:tensorflow:global_step/sec: 102.659\n",
      "INFO:tensorflow:loss = 0.14175622, step = 700 (0.971 sec)\n",
      "INFO:tensorflow:global_step/sec: 94.495\n",
      "INFO:tensorflow:loss = 0.2012616, step = 800 (1.061 sec)\n",
      "INFO:tensorflow:global_step/sec: 102.662\n",
      "INFO:tensorflow:loss = 0.14043884, step = 900 (0.973 sec)\n",
      "INFO:tensorflow:global_step/sec: 101.941\n",
      "INFO:tensorflow:loss = 0.12712735, step = 1000 (0.982 sec)\n",
      "INFO:tensorflow:global_step/sec: 101.629\n",
      "INFO:tensorflow:loss = 0.06170453, step = 1100 (0.982 sec)\n",
      "INFO:tensorflow:global_step/sec: 94.5408\n",
      "INFO:tensorflow:loss = 0.08751446, step = 1200 (1.056 sec)\n",
      "INFO:tensorflow:global_step/sec: 102.213\n",
      "INFO:tensorflow:loss = 0.09954479, step = 1300 (0.981 sec)\n",
      "INFO:tensorflow:global_step/sec: 100.658\n",
      "INFO:tensorflow:loss = 0.13391668, step = 1400 (0.995 sec)\n",
      "INFO:tensorflow:global_step/sec: 94.9899\n",
      "INFO:tensorflow:loss = 0.06784996, step = 1500 (1.052 sec)\n",
      "INFO:tensorflow:global_step/sec: 102.937\n",
      "INFO:tensorflow:loss = 0.035811577, step = 1600 (0.969 sec)\n",
      "INFO:tensorflow:global_step/sec: 102.723\n",
      "INFO:tensorflow:loss = 0.052976076, step = 1700 (0.976 sec)\n",
      "INFO:tensorflow:global_step/sec: 100.702\n",
      "INFO:tensorflow:loss = 0.07059609, step = 1800 (0.993 sec)\n",
      "INFO:tensorflow:global_step/sec: 94.6641\n",
      "INFO:tensorflow:loss = 0.07970143, step = 1900 (1.055 sec)\n",
      "INFO:tensorflow:global_step/sec: 101.713\n",
      "INFO:tensorflow:loss = 0.081439406, step = 2000 (0.985 sec)\n",
      "INFO:tensorflow:global_step/sec: 101.839\n",
      "INFO:tensorflow:loss = 0.20994079, step = 2100 (0.982 sec)\n",
      "INFO:tensorflow:global_step/sec: 101.07\n",
      "INFO:tensorflow:loss = 0.123395205, step = 2200 (0.987 sec)\n",
      "INFO:tensorflow:global_step/sec: 95.3438\n",
      "INFO:tensorflow:loss = 0.11780539, step = 2300 (1.048 sec)\n",
      "INFO:tensorflow:global_step/sec: 102.757\n",
      "INFO:tensorflow:loss = 0.034418624, step = 2400 (0.976 sec)\n",
      "INFO:tensorflow:global_step/sec: 102.182\n",
      "INFO:tensorflow:loss = 0.06929264, step = 2500 (0.977 sec)\n",
      "INFO:tensorflow:global_step/sec: 94.4638\n",
      "INFO:tensorflow:loss = 0.06800615, step = 2600 (1.057 sec)\n",
      "INFO:tensorflow:global_step/sec: 102.676\n",
      "INFO:tensorflow:loss = 0.10102424, step = 2700 (0.974 sec)\n",
      "INFO:tensorflow:global_step/sec: 102.255\n",
      "INFO:tensorflow:loss = 0.013503251, step = 2800 (0.980 sec)\n",
      "INFO:tensorflow:global_step/sec: 101.893\n",
      "INFO:tensorflow:loss = 0.054088622, step = 2900 (0.982 sec)\n",
      "INFO:tensorflow:global_step/sec: 94.6083\n",
      "INFO:tensorflow:loss = 0.07858383, step = 3000 (1.055 sec)\n",
      "INFO:tensorflow:global_step/sec: 103.28\n",
      "INFO:tensorflow:loss = 0.028483577, step = 3100 (0.972 sec)\n",
      "INFO:tensorflow:global_step/sec: 100.79\n",
      "INFO:tensorflow:loss = 0.1469439, step = 3200 (0.989 sec)\n",
      "INFO:tensorflow:global_step/sec: 102.639\n",
      "INFO:tensorflow:loss = 0.026200198, step = 3300 (0.972 sec)\n",
      "INFO:tensorflow:global_step/sec: 94.7867\n",
      "INFO:tensorflow:loss = 0.091127984, step = 3400 (1.057 sec)\n",
      "INFO:tensorflow:global_step/sec: 101.947\n",
      "INFO:tensorflow:loss = 0.04215462, step = 3500 (0.980 sec)\n",
      "INFO:tensorflow:global_step/sec: 102.69\n",
      "INFO:tensorflow:loss = 0.068557635, step = 3600 (0.973 sec)\n",
      "INFO:tensorflow:global_step/sec: 95.5868\n",
      "INFO:tensorflow:loss = 0.03882247, step = 3700 (1.049 sec)\n",
      "INFO:tensorflow:global_step/sec: 102.809\n",
      "INFO:tensorflow:loss = 0.054420844, step = 3800 (0.974 sec)\n",
      "INFO:tensorflow:global_step/sec: 102.55\n",
      "INFO:tensorflow:loss = 0.02942058, step = 3900 (0.974 sec)\n",
      "INFO:tensorflow:global_step/sec: 102.657\n",
      "INFO:tensorflow:loss = 0.041881777, step = 4000 (0.971 sec)\n",
      "INFO:tensorflow:global_step/sec: 94.344\n",
      "INFO:tensorflow:loss = 0.040109724, step = 4100 (1.064 sec)\n",
      "INFO:tensorflow:global_step/sec: 101.964\n",
      "INFO:tensorflow:loss = 0.10299821, step = 4200 (0.978 sec)\n",
      "INFO:tensorflow:global_step/sec: 103.427\n",
      "INFO:tensorflow:loss = 0.10268093, step = 4300 (0.968 sec)\n",
      "INFO:tensorflow:global_step/sec: 102.771\n",
      "INFO:tensorflow:loss = 0.033030998, step = 4400 (0.972 sec)\n",
      "INFO:tensorflow:global_step/sec: 95.8262\n",
      "INFO:tensorflow:loss = 0.0207128, step = 4500 (1.046 sec)\n",
      "INFO:tensorflow:global_step/sec: 101.395\n",
      "INFO:tensorflow:loss = 0.036400355, step = 4600 (0.987 sec)\n",
      "INFO:tensorflow:global_step/sec: 101.814\n",
      "INFO:tensorflow:loss = 0.049988117, step = 4700 (0.979 sec)\n",
      "INFO:tensorflow:global_step/sec: 95.2373\n",
      "INFO:tensorflow:loss = 0.023613958, step = 4800 (1.053 sec)\n",
      "INFO:tensorflow:global_step/sec: 103.297\n",
      "INFO:tensorflow:loss = 0.023228742, step = 4900 (0.964 sec)\n",
      "INFO:tensorflow:Saving checkpoints for 5000 into /tmp/tmp43x26c8n/cnn/model.ckpt.\n",
      "INFO:tensorflow:Loss for final step: 0.116264455.\n",
      "INFO:tensorflow:Calling model_fn.\n",
      "WARNING:tensorflow:Trapezoidal rule is known to produce incorrect PR-AUCs; please switch to \"careful_interpolation\" instead.\n",
      "WARNING:tensorflow:Trapezoidal rule is known to produce incorrect PR-AUCs; please switch to \"careful_interpolation\" instead.\n",
      "INFO:tensorflow:Done calling model_fn.\n",
      "INFO:tensorflow:Starting evaluation at 2018-10-20-03:43:40\n",
      "INFO:tensorflow:Graph was finalized.\n",
      "INFO:tensorflow:Restoring parameters from /tmp/tmp43x26c8n/cnn/model.ckpt-5000\n",
      "INFO:tensorflow:Running local_init_op.\n",
      "INFO:tensorflow:Done running local_init_op.\n",
      "INFO:tensorflow:Finished evaluation at 2018-10-20-03:43:41\n",
      "INFO:tensorflow:Saving dict for global step 5000: accuracy = 0.9676476, accuracy_baseline = 0.66350985, auc = 0.99152285, auc_precision_recall = 0.9956374, average_loss = 0.103014424, global_step = 5000, label/mean = 0.66350985, loss = 0.102679975, precision = 0.96875, prediction/mean = 0.6722226, recall = 0.98294854\n",
      "INFO:tensorflow:Saving 'checkpoint_path' summary for global step 5000: /tmp/tmp43x26c8n/cnn/model.ckpt-5000\n",
      "INFO:tensorflow:Calling model_fn.\n",
      "INFO:tensorflow:Done calling model_fn.\n",
      "INFO:tensorflow:Graph was finalized.\n",
      "INFO:tensorflow:Restoring parameters from /tmp/tmp43x26c8n/cnn/model.ckpt-5000\n",
      "INFO:tensorflow:Running local_init_op.\n",
      "INFO:tensorflow:Done running local_init_op.\n"
     ]
    }
   ],
   "source": [
    "cnn_classifier = tf.estimator.Estimator(model_fn=cnn_model_fn,\n",
    "                                        model_dir=os.path.join(model_dir, 'cnn'),\n",
    "                                        params=params)\n",
    "train_and_evaluate(cnn_classifier)"
   ]
  },
  {
   "cell_type": "markdown",
   "metadata": {
    "colab_type": "text",
    "id": "8Fk4PcH2hUsl",
    "slideshow": {
     "slide_type": "slide"
    }
   },
   "source": [
    "### Transferencia de aprendizaje\n",
    "\n",
    "Inicializamos el modelos con vectores random, por lo que debemos aprender a *hablar* de cero cada vez. Si usamos vectores pre-entranados podemos:\n",
    "\n",
    " * Aprender de datos sin etiquetar\n",
    " * Aprovechar mejor la poca data etiquetada que tenemos"
   ]
  },
  {
   "cell_type": "code",
   "execution_count": 30,
   "metadata": {
    "cellView": "form",
    "colab": {
     "base_uri": "https://localhost:8080/",
     "height": 218
    },
    "colab_type": "code",
    "id": "puFrK72lhf8y",
    "outputId": "1963f173-ff07-4920-d545-3950f825ccb6",
    "slideshow": {
     "slide_type": "skip"
    }
   },
   "outputs": [
    {
     "name": "stdout",
     "output_type": "stream",
     "text": [
      "--2018-10-20 03:54:13--  https://s3-us-west-1.amazonaws.com/fasttext-vectors/wiki.es.vec\n",
      "Resolving s3-us-west-1.amazonaws.com (s3-us-west-1.amazonaws.com)... 54.231.237.37\n",
      "Connecting to s3-us-west-1.amazonaws.com (s3-us-west-1.amazonaws.com)|54.231.237.37|:443... connected.\n",
      "HTTP request sent, awaiting response... 200 OK\n",
      "Length: 2594302560 (2.4G) [binary/octet-stream]\n",
      "Saving to: ‘wiki.es.vec’\n",
      "\n",
      "wiki.es.vec         100%[===================>]   2.42G  62.7MB/s    in 41s     \n",
      "\n",
      "2018-10-20 03:54:54 (60.0 MB/s) - ‘wiki.es.vec’ saved [2594302560/2594302560]\n",
      "\n",
      "Successfully loaded pretrained embeddings for 4809/5000 words.\n"
     ]
    }
   ],
   "source": [
    "#@title Cargar vectores pre-entrenados\n",
    "#@markdown `embedding_matrix = load_fasttext_embeddings('wiki.es.vec')`\n",
    "\n",
    "if not os.path.exists('wiki.es.vec'):\n",
    "    ! wget https://s3-us-west-1.amazonaws.com/fasttext-vectors/wiki.es.vec\n",
    "      \n",
    "def load_fasttext_embeddings(path):\n",
    "    embeddings = {}\n",
    "    with open(path, 'r', encoding='utf-8') as f:\n",
    "        f.readline()\n",
    "        for line in f:\n",
    "            values = line.strip().split()\n",
    "            if not values[1][0] in '0123456789-':\n",
    "                continue\n",
    "            w = values[0]\n",
    "            if w not in word_index or word_index[w] >= vocab_size:\n",
    "                continue\n",
    "            vectors = np.asarray(values[1:51], dtype='float32')\n",
    "            embeddings[w] = vectors\n",
    "\n",
    "    embedding_matrix = np.random.uniform(-1, 1, size=(vocab_size, embedding_size))\n",
    "    num_loaded = 0\n",
    "    for w, i in word_index.items():\n",
    "        v = embeddings.get(w)\n",
    "        if v is not None and i + index_offset < vocab_size:\n",
    "            embedding_matrix[i + index_offset] = v\n",
    "            num_loaded += 1\n",
    "    print('Successfully loaded pretrained embeddings for '\n",
    "          f'{num_loaded}/{vocab_size} words.')\n",
    "    embedding_matrix = embedding_matrix.astype(np.float32)\n",
    "    return embedding_matrix\n",
    "\n",
    "embedding_matrix = load_fasttext_embeddings('wiki.es.vec')"
   ]
  },
  {
   "cell_type": "markdown",
   "metadata": {
    "colab_type": "text",
    "id": "iaTrA0V9iLdF",
    "slideshow": {
     "slide_type": "subslide"
    }
   },
   "source": [
    "Ahora podemos cargar los vectores en nuestro modelo\n"
   ]
  },
  {
   "cell_type": "code",
   "execution_count": 31,
   "metadata": {
    "colab": {
     "base_uri": "https://localhost:8080/",
     "height": 2288
    },
    "colab_type": "code",
    "id": "I6x6Lyu-iL3b",
    "outputId": "cba074ae-2727-44af-d12e-39764915cdfc",
    "slideshow": {
     "slide_type": "fragment"
    }
   },
   "outputs": [
    {
     "name": "stdout",
     "output_type": "stream",
     "text": [
      "INFO:tensorflow:Using default config.\n",
      "INFO:tensorflow:Using config: {'_model_dir': '/tmp/tmp43x26c8n/cnn_pretrained', '_tf_random_seed': None, '_save_summary_steps': 100, '_save_checkpoints_steps': None, '_save_checkpoints_secs': 600, '_session_config': allow_soft_placement: true\n",
      "graph_options {\n",
      "  rewrite_options {\n",
      "    meta_optimizer_iterations: ONE\n",
      "  }\n",
      "}\n",
      ", '_keep_checkpoint_max': 5, '_keep_checkpoint_every_n_hours': 10000, '_log_step_count_steps': 100, '_train_distribute': None, '_device_fn': None, '_protocol': None, '_eval_distribute': None, '_experimental_distribute': None, '_service': None, '_cluster_spec': <tensorflow.python.training.server_lib.ClusterSpec object at 0x7febc86692b0>, '_task_type': 'worker', '_task_id': 0, '_global_id_in_cluster': 0, '_master': '', '_evaluation_master': '', '_is_chief': True, '_num_ps_replicas': 0, '_num_worker_replicas': 1}\n",
      "INFO:tensorflow:Calling model_fn.\n",
      "INFO:tensorflow:Done calling model_fn.\n",
      "INFO:tensorflow:Create CheckpointSaverHook.\n",
      "INFO:tensorflow:Graph was finalized.\n",
      "INFO:tensorflow:Running local_init_op.\n",
      "INFO:tensorflow:Done running local_init_op.\n",
      "INFO:tensorflow:Saving checkpoints for 0 into /tmp/tmp43x26c8n/cnn_pretrained/model.ckpt.\n",
      "INFO:tensorflow:loss = 0.84539866, step = 0\n",
      "INFO:tensorflow:global_step/sec: 93.0393\n",
      "INFO:tensorflow:loss = 0.5461022, step = 100 (1.076 sec)\n",
      "INFO:tensorflow:global_step/sec: 126.133\n",
      "INFO:tensorflow:loss = 0.51779944, step = 200 (0.794 sec)\n",
      "INFO:tensorflow:global_step/sec: 127.757\n",
      "INFO:tensorflow:loss = 0.46507388, step = 300 (0.785 sec)\n",
      "INFO:tensorflow:global_step/sec: 114.249\n",
      "INFO:tensorflow:loss = 0.35241744, step = 400 (0.875 sec)\n",
      "INFO:tensorflow:global_step/sec: 126.641\n",
      "INFO:tensorflow:loss = 0.49458024, step = 500 (0.786 sec)\n",
      "INFO:tensorflow:global_step/sec: 126.335\n",
      "INFO:tensorflow:loss = 0.38376114, step = 600 (0.795 sec)\n",
      "INFO:tensorflow:global_step/sec: 126.024\n",
      "INFO:tensorflow:loss = 0.38960597, step = 700 (0.790 sec)\n",
      "INFO:tensorflow:global_step/sec: 115.774\n",
      "INFO:tensorflow:loss = 0.36956573, step = 800 (0.866 sec)\n",
      "INFO:tensorflow:global_step/sec: 126.831\n",
      "INFO:tensorflow:loss = 0.34900916, step = 900 (0.786 sec)\n",
      "INFO:tensorflow:global_step/sec: 126.157\n",
      "INFO:tensorflow:loss = 0.45650786, step = 1000 (0.793 sec)\n",
      "INFO:tensorflow:global_step/sec: 122.692\n",
      "INFO:tensorflow:loss = 0.33210593, step = 1100 (0.817 sec)\n",
      "INFO:tensorflow:global_step/sec: 113.643\n",
      "INFO:tensorflow:loss = 0.3216016, step = 1200 (0.881 sec)\n",
      "INFO:tensorflow:global_step/sec: 128.246\n",
      "INFO:tensorflow:loss = 0.32885924, step = 1300 (0.779 sec)\n",
      "INFO:tensorflow:global_step/sec: 126.643\n",
      "INFO:tensorflow:loss = 0.29388353, step = 1400 (0.789 sec)\n",
      "INFO:tensorflow:global_step/sec: 113.324\n",
      "INFO:tensorflow:loss = 0.33920658, step = 1500 (0.881 sec)\n",
      "INFO:tensorflow:global_step/sec: 126.255\n",
      "INFO:tensorflow:loss = 0.29709136, step = 1600 (0.794 sec)\n",
      "INFO:tensorflow:global_step/sec: 128.81\n",
      "INFO:tensorflow:loss = 0.25715777, step = 1700 (0.779 sec)\n",
      "INFO:tensorflow:global_step/sec: 125.806\n",
      "INFO:tensorflow:loss = 0.24653597, step = 1800 (0.790 sec)\n",
      "INFO:tensorflow:global_step/sec: 114.138\n",
      "INFO:tensorflow:loss = 0.25138462, step = 1900 (0.880 sec)\n",
      "INFO:tensorflow:global_step/sec: 127.099\n",
      "INFO:tensorflow:loss = 0.2623765, step = 2000 (0.786 sec)\n",
      "INFO:tensorflow:global_step/sec: 126.815\n",
      "INFO:tensorflow:loss = 0.20875736, step = 2100 (0.786 sec)\n",
      "INFO:tensorflow:global_step/sec: 127.563\n",
      "INFO:tensorflow:loss = 0.25374708, step = 2200 (0.786 sec)\n",
      "INFO:tensorflow:global_step/sec: 115.792\n",
      "INFO:tensorflow:loss = 0.31222907, step = 2300 (0.865 sec)\n",
      "INFO:tensorflow:global_step/sec: 126.775\n",
      "INFO:tensorflow:loss = 0.22037698, step = 2400 (0.787 sec)\n",
      "INFO:tensorflow:global_step/sec: 128.298\n",
      "INFO:tensorflow:loss = 0.28768107, step = 2500 (0.780 sec)\n",
      "INFO:tensorflow:global_step/sec: 115.666\n",
      "INFO:tensorflow:loss = 0.1416176, step = 2600 (0.861 sec)\n",
      "INFO:tensorflow:global_step/sec: 129.038\n",
      "INFO:tensorflow:loss = 0.19999933, step = 2700 (0.777 sec)\n",
      "INFO:tensorflow:global_step/sec: 127.818\n",
      "INFO:tensorflow:loss = 0.23147206, step = 2800 (0.784 sec)\n",
      "INFO:tensorflow:global_step/sec: 127.974\n",
      "INFO:tensorflow:loss = 0.30802009, step = 2900 (0.780 sec)\n",
      "INFO:tensorflow:global_step/sec: 116.433\n",
      "INFO:tensorflow:loss = 0.237066, step = 3000 (0.856 sec)\n",
      "INFO:tensorflow:global_step/sec: 129.064\n",
      "INFO:tensorflow:loss = 0.16562876, step = 3100 (0.779 sec)\n",
      "INFO:tensorflow:global_step/sec: 126.93\n",
      "INFO:tensorflow:loss = 0.22199558, step = 3200 (0.787 sec)\n",
      "INFO:tensorflow:global_step/sec: 126.604\n",
      "INFO:tensorflow:loss = 0.2401706, step = 3300 (0.789 sec)\n",
      "INFO:tensorflow:global_step/sec: 115.702\n",
      "INFO:tensorflow:loss = 0.18543217, step = 3400 (0.861 sec)\n",
      "INFO:tensorflow:global_step/sec: 127.346\n",
      "INFO:tensorflow:loss = 0.15679185, step = 3500 (0.786 sec)\n",
      "INFO:tensorflow:global_step/sec: 129.506\n",
      "INFO:tensorflow:loss = 0.26153693, step = 3600 (0.774 sec)\n",
      "INFO:tensorflow:global_step/sec: 114.295\n",
      "INFO:tensorflow:loss = 0.26375306, step = 3700 (0.872 sec)\n",
      "INFO:tensorflow:global_step/sec: 127.971\n",
      "INFO:tensorflow:loss = 0.2613709, step = 3800 (0.785 sec)\n",
      "INFO:tensorflow:global_step/sec: 126.971\n",
      "INFO:tensorflow:loss = 0.20221515, step = 3900 (0.787 sec)\n",
      "INFO:tensorflow:global_step/sec: 127.093\n",
      "INFO:tensorflow:loss = 0.3793162, step = 4000 (0.792 sec)\n",
      "INFO:tensorflow:global_step/sec: 114.638\n",
      "INFO:tensorflow:loss = 0.18671066, step = 4100 (0.868 sec)\n",
      "INFO:tensorflow:global_step/sec: 127.313\n",
      "INFO:tensorflow:loss = 0.1662364, step = 4200 (0.782 sec)\n",
      "INFO:tensorflow:global_step/sec: 127.564\n",
      "INFO:tensorflow:loss = 0.15407836, step = 4300 (0.788 sec)\n",
      "INFO:tensorflow:global_step/sec: 124.87\n",
      "INFO:tensorflow:loss = 0.17024824, step = 4400 (0.797 sec)\n",
      "INFO:tensorflow:global_step/sec: 117.265\n",
      "INFO:tensorflow:loss = 0.19531636, step = 4500 (0.856 sec)\n",
      "INFO:tensorflow:global_step/sec: 128.309\n",
      "INFO:tensorflow:loss = 0.32938617, step = 4600 (0.780 sec)\n",
      "INFO:tensorflow:global_step/sec: 126.536\n",
      "INFO:tensorflow:loss = 0.22784133, step = 4700 (0.791 sec)\n",
      "INFO:tensorflow:global_step/sec: 114.778\n",
      "INFO:tensorflow:loss = 0.11575761, step = 4800 (0.867 sec)\n",
      "INFO:tensorflow:global_step/sec: 129.238\n",
      "INFO:tensorflow:loss = 0.28022024, step = 4900 (0.776 sec)\n",
      "INFO:tensorflow:Saving checkpoints for 5000 into /tmp/tmp43x26c8n/cnn_pretrained/model.ckpt.\n",
      "INFO:tensorflow:Loss for final step: 0.15853792.\n",
      "INFO:tensorflow:Calling model_fn.\n",
      "WARNING:tensorflow:Trapezoidal rule is known to produce incorrect PR-AUCs; please switch to \"careful_interpolation\" instead.\n",
      "WARNING:tensorflow:Trapezoidal rule is known to produce incorrect PR-AUCs; please switch to \"careful_interpolation\" instead.\n",
      "INFO:tensorflow:Done calling model_fn.\n",
      "INFO:tensorflow:Starting evaluation at 2018-10-20-03:56:29\n",
      "INFO:tensorflow:Graph was finalized.\n",
      "INFO:tensorflow:Restoring parameters from /tmp/tmp43x26c8n/cnn_pretrained/model.ckpt-5000\n",
      "INFO:tensorflow:Running local_init_op.\n",
      "INFO:tensorflow:Done running local_init_op.\n",
      "INFO:tensorflow:Finished evaluation at 2018-10-20-03:56:31\n",
      "INFO:tensorflow:Saving dict for global step 5000: accuracy = 0.9352952, accuracy_baseline = 0.66350985, auc = 0.98205316, auc_precision_recall = 0.99064255, average_loss = 0.16114591, global_step = 5000, label/mean = 0.66350985, loss = 0.16180901, precision = 0.9521067, prediction/mean = 0.65339386, recall = 0.9502826\n",
      "INFO:tensorflow:Saving 'checkpoint_path' summary for global step 5000: /tmp/tmp43x26c8n/cnn_pretrained/model.ckpt-5000\n",
      "INFO:tensorflow:Calling model_fn.\n",
      "INFO:tensorflow:Done calling model_fn.\n",
      "INFO:tensorflow:Graph was finalized.\n",
      "INFO:tensorflow:Restoring parameters from /tmp/tmp43x26c8n/cnn_pretrained/model.ckpt-5000\n",
      "INFO:tensorflow:Running local_init_op.\n",
      "INFO:tensorflow:Done running local_init_op.\n"
     ]
    }
   ],
   "source": [
    "def my_initializer(shape=None, dtype=tf.float32, partition_info=None):\n",
    "    return embedding_matrix\n",
    "\n",
    "params = {'embedding_initializer': my_initializer, 'embedding_trainable': False}\n",
    "\n",
    "cnn_pretrained_classifier = tf.estimator.Estimator(model_fn=cnn_model_fn,\n",
    "    model_dir=os.path.join(model_dir, 'cnn_pretrained'),\n",
    "    params=params)\n",
    "train_and_evaluate(cnn_pretrained_classifier)"
   ]
  },
  {
   "cell_type": "markdown",
   "metadata": {
    "colab_type": "text",
    "id": "AWZ833DXlhPc",
    "slideshow": {
     "slide_type": "subslide"
    }
   },
   "source": [
    "Podemos correr este modelo dejando re-entrenar los pesos o no. También hay papers que muestran que lo mejor es regalurazar hacie esos valores en lugar de solo usarlos como inicialización. En la práctica salvo excepciones dejarlos fijos es lo mejor para evitar overfitting, las mejoras que se obtienen son marginales."
   ]
  },
  {
   "cell_type": "code",
   "execution_count": 32,
   "metadata": {
    "colab": {
     "base_uri": "https://localhost:8080/",
     "height": 2288
    },
    "colab_type": "code",
    "id": "hX8S0ZahmqHv",
    "outputId": "77408520-8f25-4946-8381-334d7c48bf71",
    "slideshow": {
     "slide_type": "fragment"
    }
   },
   "outputs": [
    {
     "name": "stdout",
     "output_type": "stream",
     "text": [
      "INFO:tensorflow:Using default config.\n",
      "INFO:tensorflow:Using config: {'_model_dir': '/tmp/tmp43x26c8n/cnn_pretrained_retrain', '_tf_random_seed': None, '_save_summary_steps': 100, '_save_checkpoints_steps': None, '_save_checkpoints_secs': 600, '_session_config': allow_soft_placement: true\n",
      "graph_options {\n",
      "  rewrite_options {\n",
      "    meta_optimizer_iterations: ONE\n",
      "  }\n",
      "}\n",
      ", '_keep_checkpoint_max': 5, '_keep_checkpoint_every_n_hours': 10000, '_log_step_count_steps': 100, '_train_distribute': None, '_device_fn': None, '_protocol': None, '_eval_distribute': None, '_experimental_distribute': None, '_service': None, '_cluster_spec': <tensorflow.python.training.server_lib.ClusterSpec object at 0x7febc8669588>, '_task_type': 'worker', '_task_id': 0, '_global_id_in_cluster': 0, '_master': '', '_evaluation_master': '', '_is_chief': True, '_num_ps_replicas': 0, '_num_worker_replicas': 1}\n",
      "INFO:tensorflow:Calling model_fn.\n",
      "INFO:tensorflow:Done calling model_fn.\n",
      "INFO:tensorflow:Create CheckpointSaverHook.\n",
      "INFO:tensorflow:Graph was finalized.\n",
      "INFO:tensorflow:Running local_init_op.\n",
      "INFO:tensorflow:Done running local_init_op.\n",
      "INFO:tensorflow:Saving checkpoints for 0 into /tmp/tmp43x26c8n/cnn_pretrained_retrain/model.ckpt.\n",
      "INFO:tensorflow:loss = 0.6951174, step = 0\n",
      "INFO:tensorflow:global_step/sec: 72.5242\n",
      "INFO:tensorflow:loss = 0.5510155, step = 100 (1.384 sec)\n",
      "INFO:tensorflow:global_step/sec: 103.329\n",
      "INFO:tensorflow:loss = 0.2883177, step = 200 (0.965 sec)\n",
      "INFO:tensorflow:global_step/sec: 102.762\n",
      "INFO:tensorflow:loss = 0.29106748, step = 300 (0.974 sec)\n",
      "INFO:tensorflow:global_step/sec: 95.7812\n",
      "INFO:tensorflow:loss = 0.08424552, step = 400 (1.042 sec)\n",
      "INFO:tensorflow:global_step/sec: 104.271\n",
      "INFO:tensorflow:loss = 0.12632294, step = 500 (0.962 sec)\n",
      "INFO:tensorflow:global_step/sec: 104.03\n",
      "INFO:tensorflow:loss = 0.13466452, step = 600 (0.960 sec)\n",
      "INFO:tensorflow:global_step/sec: 103.167\n",
      "INFO:tensorflow:loss = 0.09175409, step = 700 (0.973 sec)\n",
      "INFO:tensorflow:global_step/sec: 94.7168\n",
      "INFO:tensorflow:loss = 0.08976228, step = 800 (1.051 sec)\n",
      "INFO:tensorflow:global_step/sec: 102.605\n",
      "INFO:tensorflow:loss = 0.15756254, step = 900 (0.975 sec)\n",
      "INFO:tensorflow:global_step/sec: 102.812\n",
      "INFO:tensorflow:loss = 0.05402628, step = 1000 (0.973 sec)\n",
      "INFO:tensorflow:global_step/sec: 102.441\n",
      "INFO:tensorflow:loss = 0.17868428, step = 1100 (0.976 sec)\n",
      "INFO:tensorflow:global_step/sec: 94.6012\n",
      "INFO:tensorflow:loss = 0.06232211, step = 1200 (1.060 sec)\n",
      "INFO:tensorflow:global_step/sec: 103.071\n",
      "INFO:tensorflow:loss = 0.10755536, step = 1300 (0.968 sec)\n",
      "INFO:tensorflow:global_step/sec: 103.918\n",
      "INFO:tensorflow:loss = 0.075015604, step = 1400 (0.965 sec)\n",
      "INFO:tensorflow:global_step/sec: 94.9879\n",
      "INFO:tensorflow:loss = 0.06914012, step = 1500 (1.053 sec)\n",
      "INFO:tensorflow:global_step/sec: 102.906\n",
      "INFO:tensorflow:loss = 0.09351297, step = 1600 (0.972 sec)\n",
      "INFO:tensorflow:global_step/sec: 100.583\n",
      "INFO:tensorflow:loss = 0.08560257, step = 1700 (0.990 sec)\n",
      "INFO:tensorflow:global_step/sec: 102.491\n",
      "INFO:tensorflow:loss = 0.031517867, step = 1800 (0.979 sec)\n",
      "INFO:tensorflow:global_step/sec: 94.9492\n",
      "INFO:tensorflow:loss = 0.025956629, step = 1900 (1.054 sec)\n",
      "INFO:tensorflow:global_step/sec: 104.094\n",
      "INFO:tensorflow:loss = 0.061348774, step = 2000 (0.959 sec)\n",
      "INFO:tensorflow:global_step/sec: 101.996\n",
      "INFO:tensorflow:loss = 0.10493286, step = 2100 (0.982 sec)\n",
      "INFO:tensorflow:global_step/sec: 102.579\n",
      "INFO:tensorflow:loss = 0.026749136, step = 2200 (0.975 sec)\n",
      "INFO:tensorflow:global_step/sec: 94.6816\n",
      "INFO:tensorflow:loss = 0.10399229, step = 2300 (1.053 sec)\n",
      "INFO:tensorflow:global_step/sec: 103.494\n",
      "INFO:tensorflow:loss = 0.081840456, step = 2400 (0.966 sec)\n",
      "INFO:tensorflow:global_step/sec: 103.067\n",
      "INFO:tensorflow:loss = 0.019798515, step = 2500 (0.970 sec)\n",
      "INFO:tensorflow:global_step/sec: 94.6092\n",
      "INFO:tensorflow:loss = 0.07128025, step = 2600 (1.057 sec)\n",
      "INFO:tensorflow:global_step/sec: 102.573\n",
      "INFO:tensorflow:loss = 0.051482927, step = 2700 (0.978 sec)\n",
      "INFO:tensorflow:global_step/sec: 103.001\n",
      "INFO:tensorflow:loss = 0.015841817, step = 2800 (0.972 sec)\n",
      "INFO:tensorflow:global_step/sec: 102.822\n",
      "INFO:tensorflow:loss = 0.060753316, step = 2900 (0.969 sec)\n",
      "INFO:tensorflow:global_step/sec: 95.4152\n",
      "INFO:tensorflow:loss = 0.011977395, step = 3000 (1.048 sec)\n",
      "INFO:tensorflow:global_step/sec: 102.431\n",
      "INFO:tensorflow:loss = 0.01763977, step = 3100 (0.980 sec)\n",
      "INFO:tensorflow:global_step/sec: 103.559\n",
      "INFO:tensorflow:loss = 0.0558972, step = 3200 (0.964 sec)\n",
      "INFO:tensorflow:global_step/sec: 103.119\n",
      "INFO:tensorflow:loss = 0.030268917, step = 3300 (0.968 sec)\n",
      "INFO:tensorflow:global_step/sec: 94.7005\n",
      "INFO:tensorflow:loss = 0.05114956, step = 3400 (1.058 sec)\n",
      "INFO:tensorflow:global_step/sec: 105.262\n",
      "INFO:tensorflow:loss = 0.07019523, step = 3500 (0.951 sec)\n",
      "INFO:tensorflow:global_step/sec: 105.113\n",
      "INFO:tensorflow:loss = 0.02052544, step = 3600 (0.951 sec)\n",
      "INFO:tensorflow:global_step/sec: 95.0922\n",
      "INFO:tensorflow:loss = 0.0031379228, step = 3700 (1.053 sec)\n",
      "INFO:tensorflow:global_step/sec: 102.803\n",
      "INFO:tensorflow:loss = 0.005941484, step = 3800 (0.974 sec)\n",
      "INFO:tensorflow:global_step/sec: 103.399\n",
      "INFO:tensorflow:loss = 0.011415375, step = 3900 (0.964 sec)\n",
      "INFO:tensorflow:global_step/sec: 102.597\n",
      "INFO:tensorflow:loss = 0.11735851, step = 4000 (0.976 sec)\n",
      "INFO:tensorflow:global_step/sec: 95.044\n",
      "INFO:tensorflow:loss = 0.004495168, step = 4100 (1.049 sec)\n",
      "INFO:tensorflow:global_step/sec: 101.725\n",
      "INFO:tensorflow:loss = 0.0109657515, step = 4200 (0.986 sec)\n",
      "INFO:tensorflow:global_step/sec: 102.836\n",
      "INFO:tensorflow:loss = 0.00474798, step = 4300 (0.970 sec)\n",
      "INFO:tensorflow:global_step/sec: 103.058\n",
      "INFO:tensorflow:loss = 0.07937584, step = 4400 (0.972 sec)\n",
      "INFO:tensorflow:global_step/sec: 95.415\n",
      "INFO:tensorflow:loss = 0.0065729683, step = 4500 (1.050 sec)\n",
      "INFO:tensorflow:global_step/sec: 102.59\n",
      "INFO:tensorflow:loss = 0.007971721, step = 4600 (0.971 sec)\n",
      "INFO:tensorflow:global_step/sec: 102.689\n",
      "INFO:tensorflow:loss = 0.0096620545, step = 4700 (0.976 sec)\n",
      "INFO:tensorflow:global_step/sec: 95.374\n",
      "INFO:tensorflow:loss = 0.0070715807, step = 4800 (1.046 sec)\n",
      "INFO:tensorflow:global_step/sec: 103.575\n",
      "INFO:tensorflow:loss = 0.068367176, step = 4900 (0.966 sec)\n",
      "INFO:tensorflow:Saving checkpoints for 5000 into /tmp/tmp43x26c8n/cnn_pretrained_retrain/model.ckpt.\n",
      "INFO:tensorflow:Loss for final step: 0.054352336.\n",
      "INFO:tensorflow:Calling model_fn.\n",
      "WARNING:tensorflow:Trapezoidal rule is known to produce incorrect PR-AUCs; please switch to \"careful_interpolation\" instead.\n",
      "WARNING:tensorflow:Trapezoidal rule is known to produce incorrect PR-AUCs; please switch to \"careful_interpolation\" instead.\n",
      "INFO:tensorflow:Done calling model_fn.\n",
      "INFO:tensorflow:Starting evaluation at 2018-10-20-03:58:32\n",
      "INFO:tensorflow:Graph was finalized.\n",
      "INFO:tensorflow:Restoring parameters from /tmp/tmp43x26c8n/cnn_pretrained_retrain/model.ckpt-5000\n",
      "INFO:tensorflow:Running local_init_op.\n",
      "INFO:tensorflow:Done running local_init_op.\n",
      "INFO:tensorflow:Finished evaluation at 2018-10-20-03:58:34\n",
      "INFO:tensorflow:Saving dict for global step 5000: accuracy = 0.96561366, accuracy_baseline = 0.66350985, auc = 0.9897962, auc_precision_recall = 0.9950244, average_loss = 0.124364, global_step = 5000, label/mean = 0.66350985, loss = 0.12459737, precision = 0.98029894, prediction/mean = 0.6531759, recall = 0.96762145\n",
      "INFO:tensorflow:Saving 'checkpoint_path' summary for global step 5000: /tmp/tmp43x26c8n/cnn_pretrained_retrain/model.ckpt-5000\n",
      "INFO:tensorflow:Calling model_fn.\n",
      "INFO:tensorflow:Done calling model_fn.\n",
      "INFO:tensorflow:Graph was finalized.\n",
      "INFO:tensorflow:Restoring parameters from /tmp/tmp43x26c8n/cnn_pretrained_retrain/model.ckpt-5000\n",
      "INFO:tensorflow:Running local_init_op.\n",
      "INFO:tensorflow:Done running local_init_op.\n"
     ]
    }
   ],
   "source": [
    "params = {'embedding_initializer': my_initializer, 'embedding_trainable': True}\n",
    "cnn_pretrained_classifier_reatrain = tf.estimator.Estimator(model_fn=cnn_model_fn,\n",
    "    model_dir=os.path.join(model_dir, 'cnn_pretrained_retrain'),\n",
    "    params=params)\n",
    "train_and_evaluate(cnn_pretrained_classifier_reatrain)"
   ]
  },
  {
   "cell_type": "markdown",
   "metadata": {
    "colab_type": "text",
    "id": "IEFLHohZlvcF",
    "slideshow": {
     "slide_type": "slide"
    }
   },
   "source": [
    "### LSTMs\n",
    "\n",
    "LSTMs son el más popular algoritmo de red neuronal recursiva para procesar secuencias. Una de las desventajas al comparar con CNNs es que, por la naturaleza de la recursión los modelos son mas profundos y complejos, que resulta en tiempos mas lentos de entrenamiento y peor convergencia.\n",
    "\n",
    "![LSTM Architecture](https://colah.github.io/posts/2015-08-Understanding-LSTMs/img/LSTM3-chain.png)"
   ]
  },
  {
   "cell_type": "code",
   "execution_count": 0,
   "metadata": {
    "colab": {},
    "colab_type": "code",
    "id": "qV2nwG_Wo5_d",
    "slideshow": {
     "slide_type": "subslide"
    }
   },
   "outputs": [],
   "source": [
    "def get_lstm_logits(features):\n",
    "    # [batch_size x sentence_size x embedding_size]\n",
    "    inputs = tf.contrib.layers.embed_sequence(\n",
    "        features['x'], vocab_size, embedding_size,\n",
    "        initializer=tf.random_uniform_initializer(-1.0, 1.0))\n",
    "\n",
    "    # create an LSTM cell of size 100\n",
    "    lstm_cell = tf.nn.rnn_cell.BasicLSTMCell(100)\n",
    "    \n",
    "    # create the complete LSTM\n",
    "    _, final_states = tf.nn.dynamic_rnn(\n",
    "        lstm_cell, inputs, sequence_length=features['len'], dtype=tf.float32)\n",
    "\n",
    "    # get the final hidden states of dimensionality [batch_size x sentence_size]\n",
    "    outputs = final_states.h\n",
    "\n",
    "    return tf.layers.dense(inputs=outputs, units=1)"
   ]
  },
  {
   "cell_type": "code",
   "execution_count": 0,
   "metadata": {
    "cellView": "both",
    "colab": {},
    "colab_type": "code",
    "id": "cT8puam9oPHu",
    "slideshow": {
     "slide_type": "skip"
    }
   },
   "outputs": [],
   "source": [
    "#@markdown Definir `lstm_model_fn`\n",
    "\n",
    "head = tf.contrib.estimator.binary_classification_head()\n",
    "\n",
    "def lstm_model_fn(features, labels, mode):    \n",
    "    \n",
    "    logits = get_lstm_logits(features)\n",
    "\n",
    "    optimizer = tf.train.AdamOptimizer()\n",
    "\n",
    "    def _train_op_fn(loss):\n",
    "        return optimizer.minimize(\n",
    "            loss=loss,\n",
    "            global_step=tf.train.get_global_step())\n",
    "\n",
    "    return head.create_estimator_spec(\n",
    "        features=features,\n",
    "        labels=tf.reshape(labels, [-1, 1]) if labels is not None else None,\n",
    "        mode=mode,\n",
    "        logits=logits,\n",
    "        train_op_fn=_train_op_fn)"
   ]
  },
  {
   "cell_type": "code",
   "execution_count": 0,
   "metadata": {
    "colab": {
     "base_uri": "https://localhost:8080/",
     "height": 547
    },
    "colab_type": "code",
    "id": "2zII4JkXrgGd",
    "outputId": "c8a96e65-21ad-494f-e244-94a7ac3669be",
    "slideshow": {
     "slide_type": "subslide"
    }
   },
   "outputs": [
    {
     "name": "stdout",
     "output_type": "stream",
     "text": [
      "INFO:tensorflow:Using default config.\n",
      "INFO:tensorflow:Using config: {'_model_dir': '/tmp/tmp43x26c8n/lstm', '_tf_random_seed': None, '_save_summary_steps': 100, '_save_checkpoints_steps': None, '_save_checkpoints_secs': 600, '_session_config': allow_soft_placement: true\n",
      "graph_options {\n",
      "  rewrite_options {\n",
      "    meta_optimizer_iterations: ONE\n",
      "  }\n",
      "}\n",
      ", '_keep_checkpoint_max': 5, '_keep_checkpoint_every_n_hours': 10000, '_log_step_count_steps': 100, '_train_distribute': None, '_device_fn': None, '_protocol': None, '_eval_distribute': None, '_experimental_distribute': None, '_service': None, '_cluster_spec': <tensorflow.python.training.server_lib.ClusterSpec object at 0x7febd387d630>, '_task_type': 'worker', '_task_id': 0, '_global_id_in_cluster': 0, '_master': '', '_evaluation_master': '', '_is_chief': True, '_num_ps_replicas': 0, '_num_worker_replicas': 1}\n",
      "INFO:tensorflow:Calling model_fn.\n",
      "INFO:tensorflow:Done calling model_fn.\n",
      "INFO:tensorflow:Create CheckpointSaverHook.\n",
      "INFO:tensorflow:Graph was finalized.\n",
      "INFO:tensorflow:Restoring parameters from /tmp/tmp43x26c8n/lstm/model.ckpt-5000\n",
      "INFO:tensorflow:Running local_init_op.\n",
      "INFO:tensorflow:Done running local_init_op.\n",
      "INFO:tensorflow:Saving checkpoints for 5000 into /tmp/tmp43x26c8n/lstm/model.ckpt.\n",
      "INFO:tensorflow:loss = 0.0011096846, step = 5000\n",
      "INFO:tensorflow:global_step/sec: 3.52459\n",
      "INFO:tensorflow:loss = 0.05123483, step = 5100 (28.374 sec)\n",
      "INFO:tensorflow:global_step/sec: 3.89591\n",
      "INFO:tensorflow:loss = 0.003624744, step = 5200 (25.668 sec)\n",
      "INFO:tensorflow:global_step/sec: 3.84121\n",
      "INFO:tensorflow:loss = 0.008583602, step = 5300 (26.038 sec)\n",
      "INFO:tensorflow:global_step/sec: 3.68614\n",
      "INFO:tensorflow:loss = 0.00045231025, step = 5400 (27.127 sec)\n",
      "INFO:tensorflow:global_step/sec: 3.83717\n",
      "INFO:tensorflow:loss = 0.00070083974, step = 5500 (26.059 sec)\n",
      "INFO:tensorflow:global_step/sec: 3.74824\n",
      "INFO:tensorflow:loss = 0.0052617956, step = 5600 (26.683 sec)\n"
     ]
    }
   ],
   "source": [
    "lstm_classifier = tf.estimator.Estimator(model_fn=lstm_model_fn,\n",
    "                                         model_dir=os.path.join(model_dir, 'lstm'))\n",
    "train_and_evaluate(lstm_classifier)"
   ]
  },
  {
   "cell_type": "markdown",
   "metadata": {
    "colab_type": "text",
    "id": "1APgAb5iVkTU",
    "slideshow": {
     "slide_type": "subslide"
    }
   },
   "source": [
    "Los **LSTM Networks** se han vuelto el caballito de batalla en muchos problemas de NLP, usando el output de cada unidad para armar módelos de lenguaje o la clasificar cada token de una oración.\n",
    " \n",
    "Estos mismos módelos se pueden usar después de forma inversa para **generar texto**"
   ]
  },
  {
   "cell_type": "markdown",
   "metadata": {
    "colab_type": "text",
    "id": "HP09wahLnkVE",
    "slideshow": {
     "slide_type": "slide"
    }
   },
   "source": [
    "## Resultados\n",
    "\n",
    "Para ir cerrando, lo primero es como usar esto para sacar predicciones"
   ]
  },
  {
   "cell_type": "code",
   "execution_count": 33,
   "metadata": {
    "colab": {
     "base_uri": "https://localhost:8080/",
     "height": 218
    },
    "colab_type": "code",
    "id": "KywWbhMqJwX2",
    "outputId": "5d5bdd1e-c29a-42da-e6f4-f7f83ac2fda8",
    "slideshow": {
     "slide_type": "skip"
    }
   },
   "outputs": [
    {
     "name": "stdout",
     "output_type": "stream",
     "text": [
      "La comida daba asco, estaba dura la carne, horrible!\n",
      "\t0.000395 bow_sparse\n",
      "\t0.000291 bow_sparse\n",
      "\t0.000000 cnn\n",
      "\t0.073282 cnn_pretrained\n",
      "\t0.000000 cnn_pretrained_retrain\n",
      "Estaba todo riquísimo, vale la pena\n",
      "\t0.946516 bow_sparse\n",
      "\t0.933265 bow_sparse\n",
      "\t0.999999 cnn\n",
      "\t0.972757 cnn_pretrained\n",
      "\t0.999995 cnn_pretrained_retrain\n"
     ]
    }
   ],
   "source": [
    "#@title Making Predictions { run: \"auto\", vertical-output: true, display-mode: \"form\" }\n",
    "doc1 = \"La comida daba asco, estaba dura la carne, horrible!\" #@param {type:\"string\"}\n",
    "doc2 = \"Estaba todo riquísimo, vale la pena\" #@param {type:\"string\"}\n",
    "\n",
    "tf.logging.set_verbosity(tf.logging.ERROR)\n",
    "\n",
    "def print_predictions(sentences):\n",
    "    indexes = [doc_to_index(sentence) for sentence in sentences]\n",
    "    x = sequence.pad_sequences(indexes, \n",
    "                               maxlen=sentence_size, \n",
    "                               padding='post', \n",
    "                               value=-1)\n",
    "    length = np.array([min(len(x), sentence_size) for x in indexes])\n",
    "    predict_input_fn = tf.estimator.inputs.numpy_input_fn(x={\"x\": x, \"len\": length}, shuffle=False)\n",
    "    predictions = {}\n",
    "    for path, classifier in all_classifiers.items():\n",
    "        predictions[path] = [p['logistic'][0] for p in classifier.predict(input_fn=predict_input_fn)]\n",
    "    for idx, sentence in enumerate(sentences):\n",
    "        print(sentence)\n",
    "        for path in all_classifiers:\n",
    "            print(\"\\t{0:.6f} {1}\".format(predictions[path][idx].item(), os.path.basename(path)))\n",
    "            \n",
    "print_predictions([doc1, doc2])"
   ]
  },
  {
   "cell_type": "markdown",
   "metadata": {
    "colab_type": "text",
    "id": "pfSHGGb_nskl",
    "slideshow": {
     "slide_type": "subslide"
    }
   },
   "source": [
    "### Corriendo TensorBoard\n",
    "\n",
    "Ahora podemos correr TensorBoard y ver como los diferentes modelso que entramos se comparan entre sí en terminos de tiempo de entrenamiento y perforamnce.\n",
    "\n",
    "En la terminal\n",
    "\n",
    "> tensorboard --logdir={model_dir}\n",
    "\n",
    "Podemos ver varias métricas durante entrenamiento y prueba, incluída la loss function de cada modelos durante el entenamiento y las PR curves."
   ]
  },
  {
   "cell_type": "markdown",
   "metadata": {
    "colab_type": "text",
    "id": "ugkBUHVEkP-h",
    "slideshow": {
     "slide_type": "slide"
    }
   },
   "source": [
    "## Otras herramientas\n",
    "\n",
    "Otra herramienta muy útil es [Spacy](https://spacy.io) a la hora de trabajar sobre texto. Veamos que puede hacer..."
   ]
  },
  {
   "cell_type": "code",
   "execution_count": 0,
   "metadata": {
    "colab": {},
    "colab_type": "code",
    "id": "Fc7Q0tVBUzpr"
   },
   "outputs": [],
   "source": [
    "! pip install -U spacy\n",
    "! python -m spacy download es"
   ]
  },
  {
   "cell_type": "code",
   "execution_count": 0,
   "metadata": {
    "colab": {},
    "colab_type": "code",
    "id": "7uhhuaJ3WaBe"
   },
   "outputs": [],
   "source": [
    "import spacy\n",
    "nlp = spacy.load('es')\n",
    "from spacy import displacy\n",
    "from spacy.matcher import Matcher"
   ]
  },
  {
   "cell_type": "code",
   "execution_count": 0,
   "metadata": {
    "cellView": "form",
    "colab": {},
    "colab_type": "code",
    "id": "rU-8M2OzXj--"
   },
   "outputs": [],
   "source": [
    "#@title Análisis de dependencias\n",
    "sentence = \"Los propietarios me trataron muy bien\" #@param {type:\"string\"}\n",
    "doc = nlp(sentence)\n",
    "displacy.render(doc, style='dep', jupyter=True)"
   ]
  },
  {
   "cell_type": "code",
   "execution_count": 0,
   "metadata": {
    "cellView": "form",
    "colab": {},
    "colab_type": "code",
    "id": "XzXfwgamki1i"
   },
   "outputs": [],
   "source": [
    "#@title Análisis de entidades\n",
    "sentence = \"La comida India era muy rica y estaba comiendo Fidel Castro.\" #@param {type:\"string\"}\n",
    "doc = nlp(sentence)\n",
    "displacy.render(doc, style='ent', jupyter=True)"
   ]
  },
  {
   "cell_type": "markdown",
   "metadata": {
    "colab_type": "text",
    "id": "OUSRtAxDlMgn"
   },
   "source": [
    "También podemos buscar en un corpus grande frases que matchean ciertos patrones. Muy útil a la hora hacer benchmarks para datasets."
   ]
  },
  {
   "cell_type": "code",
   "execution_count": 0,
   "metadata": {
    "colab": {},
    "colab_type": "code",
    "id": "tjZM0kQhbtdE"
   },
   "outputs": [],
   "source": [
    "matched_sents = [] # collect data of matched sentences to be visualized\n",
    "matcher = Matcher(nlp.vocab)\n",
    "reviews = '\\n'.join(list(get_docs('*'))[0:1000])\n",
    "\n",
    "def collect_sents(matcher, doc, i, matches):\n",
    "    match_id, start, end = matches[i]\n",
    "    span = doc[start : end] # matched span\n",
    "    sent = span.sent # sentence containing matched span\n",
    "    # append mock entity for match in displaCy style to matched_sents\n",
    "    # get the match span by ofsetting the start and end of the span with the\n",
    "    # start and end of the sentence in the doc\n",
    "    match_ents = [{'start': span.start_char - sent.start_char,\n",
    "                   'end': span.end_char - sent.start_char,\n",
    "                   'label': 'MATCH'}]\n",
    "    matched_sents.append({'text': sent.text, 'ents': match_ents })\n",
    "\n",
    "pattern = [{'LOWER': 'comida'}, {'LEMMA': 'ser'}, {'POS': 'ADV', 'OP': '*'},\n",
    "           {'POS': 'ADJ'}]\n",
    "matcher.add('La comida', collect_sents, pattern) # add pattern\n",
    "matches = matcher(nlp(reviews)) # match on your text\n",
    "displacy.render(matched_sents, manual=True, jupyter=True, style='ent')"
   ]
  },
  {
   "cell_type": "markdown",
   "metadata": {
    "colab_type": "text",
    "id": "yxLZKRrioNHV",
    "slideshow": {
     "slide_type": "slide"
    }
   },
   "source": [
    "## Referencias\n",
    "\n",
    "* [Natural Language Processing (almost) from Scratch](https://arxiv.org/abs/1103.0398) - *Paper fundacional a la hora de aplicar DNN a problemas de NLP*\n",
    " \n",
    "* [Learning to Rank Short Text Pairs with Convolutional Deep Neural Networks by Severyn et al. 2015](https://www.semanticscholar.org/paper/Learning-to-Rank-Short-Text-Pairs-with-Deep-Neural-Severyn-Moschitti/452f7411af7d471dd3ba84c2b06b2aaffc38cdb9) - *Usa CNNs para generar representaciones de los textos*\n",
    "\n",
    "* [Bag of Tricks for Efficient Text Classification\n",
    "](https://arxiv.org/abs/1607.01759) - *Explica el modelos de fast text: buen transfer learning + ngram features + hierarchical softmak le gana muchos modelos mas complejos*\n",
    "\n",
    "* [FastText pretrained vectors](https://github.com/facebookresearch/fastText/blob/master/pretrained-vectors.md)\n",
    " \n",
    "* [Efficient Estimation of Word Representations in Vector Space\n",
    "](https://arxiv.org/abs/1301.3781) -*Introduce los tests para medir la calidad de pesos a transferir*\n",
    " \n",
    "* [Procesamiento de Lenguaje Natural en\n",
    "Sistemas de Análisis de Sentimientos](http://materias.fi.uba.ar/7500/Dubiau.pdf)\n"
   ]
  },
  {
   "cell_type": "markdown",
   "metadata": {
    "colab_type": "text",
    "id": "-d1ZLisVrKjY",
    "slideshow": {
     "slide_type": "subslide"
    }
   },
   "source": [
    "<center>\n",
    "  <br><br><br><br>\n",
    "  <h1>¡Muchas gracias!</h1>\n",
    "  <h2>¿Preguntas? ¿CVs?</h2>\n",
    "  <br><br><br><br>\n",
    "</center>\n",
    "<table width=\"100%\"><tbody><tr aligh=\"left\">\n",
    "      <td><img width=\"100\" src=\"https://storage.googleapis.com/m-infra.appspot.com/public/botmaker/bmtop7.png\"></td>\n",
    "      <td align=\"right\">20 de Octube de 2018 - DevFest Buenos Aires</td>\n",
    "</tr></tbody></table>"
   ]
  }
 ],
 "metadata": {
  "accelerator": "GPU",
  "celltoolbar": "Slideshow",
  "colab": {
   "collapsed_sections": [],
   "name": "DevFest 2018 - Clasificación de Texto en TensorFlow.ipynb",
   "provenance": [],
   "version": "0.3.2"
  },
  "kernelspec": {
   "display_name": "Python [default]",
   "language": "python",
   "name": "python3"
  }
 },
 "nbformat": 4,
 "nbformat_minor": 1
}
